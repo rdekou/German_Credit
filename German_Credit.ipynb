{
 "cells": [
  {
   "cell_type": "markdown",
   "metadata": {},
   "source": [
    "\n",
    "\n",
    "(R 3.3.1)\n",
    "\n",
    "# Risk minimization and profit maximization on behalf of the bank\n",
    "\n",
    "\n",
    "\n",
    "### Task\n",
    "\n",
    "Given the German credit Datasets (<a href=\"https://onlinecourses.science.psu.edu/stat857/sites/onlinecourses.science.psu.edu.stat857/files/german_credit.csv\">german_credit.csv</a>), make an explorative data analysis and build a binary classifier to predict wether or not a new  applicant to bank loan can be approved.\n",
    "\n",
    "### Data (brief description)\n",
    "\n",
    "The dataset contains a wide range of features such as the Account Balance, Occupation, Sex and Marital Status, etc. all associated with a class (good or bad) indicating the risk of giving the loan to the applicant.\n",
    "\n"
   ]
  },
  {
   "cell_type": "markdown",
   "metadata": {},
   "source": [
    "### Load and explore the dataset"
   ]
  },
  {
   "cell_type": "code",
   "execution_count": 136,
   "metadata": {
    "collapsed": false
   },
   "outputs": [
    {
     "data": {
      "text/html": [
       "\"C:/Users/Dekou/Desktop/R_project/energy_efficiency\""
      ],
      "text/latex": [
       "\"C:/Users/Dekou/Desktop/R\\_project/energy\\_efficiency\""
      ],
      "text/markdown": [
       "\"C:/Users/Dekou/Desktop/R_project/energy_efficiency\""
      ],
      "text/plain": [
       "[1] \"C:/Users/Dekou/Desktop/R_project/energy_efficiency\""
      ]
     },
     "metadata": {},
     "output_type": "display_data"
    },
    {
     "data": {
      "text/plain": [
       " Creditability Account.Balance Duration.of.Credit..month.\n",
       " Min.   :0.0   Min.   :1.000   Min.   : 4.0              \n",
       " 1st Qu.:0.0   1st Qu.:1.000   1st Qu.:12.0              \n",
       " Median :1.0   Median :2.000   Median :18.0              \n",
       " Mean   :0.7   Mean   :2.577   Mean   :20.9              \n",
       " 3rd Qu.:1.0   3rd Qu.:4.000   3rd Qu.:24.0              \n",
       " Max.   :1.0   Max.   :4.000   Max.   :72.0              \n",
       " Payment.Status.of.Previous.Credit    Purpose       Credit.Amount  \n",
       " Min.   :0.000                     Min.   : 0.000   Min.   :  250  \n",
       " 1st Qu.:2.000                     1st Qu.: 1.000   1st Qu.: 1366  \n",
       " Median :2.000                     Median : 2.000   Median : 2320  \n",
       " Mean   :2.545                     Mean   : 2.828   Mean   : 3271  \n",
       " 3rd Qu.:4.000                     3rd Qu.: 3.000   3rd Qu.: 3972  \n",
       " Max.   :4.000                     Max.   :10.000   Max.   :18424  \n",
       " Value.Savings.Stocks Length.of.current.employment Instalment.per.cent\n",
       " Min.   :1.000        Min.   :1.000                Min.   :1.000      \n",
       " 1st Qu.:1.000        1st Qu.:3.000                1st Qu.:2.000      \n",
       " Median :1.000        Median :3.000                Median :3.000      \n",
       " Mean   :2.105        Mean   :3.384                Mean   :2.973      \n",
       " 3rd Qu.:3.000        3rd Qu.:5.000                3rd Qu.:4.000      \n",
       " Max.   :5.000        Max.   :5.000                Max.   :4.000      \n",
       " Sex...Marital.Status   Guarantors    Duration.in.Current.address\n",
       " Min.   :1.000        Min.   :1.000   Min.   :1.000              \n",
       " 1st Qu.:2.000        1st Qu.:1.000   1st Qu.:2.000              \n",
       " Median :3.000        Median :1.000   Median :3.000              \n",
       " Mean   :2.682        Mean   :1.145   Mean   :2.845              \n",
       " 3rd Qu.:3.000        3rd Qu.:1.000   3rd Qu.:4.000              \n",
       " Max.   :4.000        Max.   :3.000   Max.   :4.000              \n",
       " Most.valuable.available.asset  Age..years.    Concurrent.Credits\n",
       " Min.   :1.000                 Min.   :19.00   Min.   :1.000     \n",
       " 1st Qu.:1.000                 1st Qu.:27.00   1st Qu.:3.000     \n",
       " Median :2.000                 Median :33.00   Median :3.000     \n",
       " Mean   :2.358                 Mean   :35.54   Mean   :2.675     \n",
       " 3rd Qu.:3.000                 3rd Qu.:42.00   3rd Qu.:3.000     \n",
       " Max.   :4.000                 Max.   :75.00   Max.   :3.000     \n",
       " Type.of.apartment No.of.Credits.at.this.Bank   Occupation    No.of.dependents\n",
       " Min.   :1.000     Min.   :1.000              Min.   :1.000   Min.   :1.000   \n",
       " 1st Qu.:2.000     1st Qu.:1.000              1st Qu.:3.000   1st Qu.:1.000   \n",
       " Median :2.000     Median :1.000              Median :3.000   Median :1.000   \n",
       " Mean   :1.928     Mean   :1.407              Mean   :2.904   Mean   :1.155   \n",
       " 3rd Qu.:2.000     3rd Qu.:2.000              3rd Qu.:3.000   3rd Qu.:1.000   \n",
       " Max.   :3.000     Max.   :4.000              Max.   :4.000   Max.   :2.000   \n",
       "   Telephone     Foreign.Worker \n",
       " Min.   :1.000   Min.   :1.000  \n",
       " 1st Qu.:1.000   1st Qu.:1.000  \n",
       " Median :1.000   Median :1.000  \n",
       " Mean   :1.404   Mean   :1.037  \n",
       " 3rd Qu.:2.000   3rd Qu.:1.000  \n",
       " Max.   :2.000   Max.   :2.000  "
      ]
     },
     "metadata": {},
     "output_type": "display_data"
    }
   ],
   "source": [
    "\n",
    "\n",
    "getwd()\n",
    "\n",
    "\n",
    "df_all <- read.csv('./german_credit.csv')\n",
    "\n",
    "\n",
    "summary(df_all)\n"
   ]
  },
  {
   "cell_type": "code",
   "execution_count": 137,
   "metadata": {
    "collapsed": false
   },
   "outputs": [
    {
     "data": {
      "text/plain": [
       "\n",
       "  0   1 \n",
       "0.3 0.7 "
      ]
     },
     "metadata": {},
     "output_type": "display_data"
    },
    {
     "data": {
      "text/html": [
       "<ol class=list-inline>\n",
       "\t<li>1</li>\n",
       "\t<li>0</li>\n",
       "</ol>\n"
      ],
      "text/latex": [
       "\\begin{enumerate*}\n",
       "\\item 1\n",
       "\\item 0\n",
       "\\end{enumerate*}\n"
      ],
      "text/markdown": [
       "1. 1\n",
       "2. 0\n",
       "\n",
       "\n"
      ],
      "text/plain": [
       "[1] 1 0"
      ]
     },
     "metadata": {},
     "output_type": "display_data"
    }
   ],
   "source": [
    "prop.table(table(df_all$Creditability))\n",
    "\n",
    "#Target labels\n",
    "unique(df_all$Creditability)"
   ]
  },
  {
   "cell_type": "markdown",
   "metadata": {},
   "source": [
    "The data set is imbalanced,\n",
    "\n",
    "possible methods to handle this are: \n",
    "\n",
    "Undersampling (oversampling) the majority (minority) class\n",
    "\n",
    "Use packages such as ROSE or SMOTE\n",
    "\n",
    "Adapt the threshold that is applied to the prediction probability with respect to the accuracy\n",
    "..."
   ]
  },
  {
   "cell_type": "code",
   "execution_count": 138,
   "metadata": {
    "collapsed": false
   },
   "outputs": [
    {
     "data": {
      "text/html": [
       "<table>\n",
       "<thead><tr><th></th><th scope=col>Creditability</th><th scope=col>Account.Balance</th><th scope=col>Duration.of.Credit..month.</th><th scope=col>Payment.Status.of.Previous.Credit</th><th scope=col>Purpose</th><th scope=col>Credit.Amount</th><th scope=col>Value.Savings.Stocks</th><th scope=col>Length.of.current.employment</th><th scope=col>Instalment.per.cent</th><th scope=col>Sex...Marital.Status</th><th scope=col>...</th><th scope=col>Duration.in.Current.address</th><th scope=col>Most.valuable.available.asset</th><th scope=col>Age..years.</th><th scope=col>Concurrent.Credits</th><th scope=col>Type.of.apartment</th><th scope=col>No.of.Credits.at.this.Bank</th><th scope=col>Occupation</th><th scope=col>No.of.dependents</th><th scope=col>Telephone</th><th scope=col>Foreign.Worker</th></tr></thead>\n",
       "<tbody>\n",
       "\t<tr><th scope=row>1</th><td>1   </td><td>1   </td><td>18  </td><td>4   </td><td>2   </td><td>1049</td><td>1   </td><td>2   </td><td>4   </td><td>2   </td><td>... </td><td>4   </td><td>2   </td><td>21  </td><td>3   </td><td>1   </td><td>1   </td><td>3   </td><td>1   </td><td>1   </td><td>1   </td></tr>\n",
       "\t<tr><th scope=row>2</th><td>1   </td><td>1   </td><td>9   </td><td>4   </td><td>0   </td><td>2799</td><td>1   </td><td>3   </td><td>2   </td><td>3   </td><td>... </td><td>2   </td><td>1   </td><td>36  </td><td>3   </td><td>1   </td><td>2   </td><td>3   </td><td>2   </td><td>1   </td><td>1   </td></tr>\n",
       "\t<tr><th scope=row>3</th><td>1  </td><td>2  </td><td>12 </td><td>2  </td><td>9  </td><td>841</td><td>2  </td><td>4  </td><td>2  </td><td>2  </td><td>...</td><td>4  </td><td>1  </td><td>23 </td><td>3  </td><td>1  </td><td>1  </td><td>2  </td><td>1  </td><td>1  </td><td>1  </td></tr>\n",
       "\t<tr><th scope=row>4</th><td>1   </td><td>1   </td><td>12  </td><td>4   </td><td>0   </td><td>2122</td><td>1   </td><td>3   </td><td>3   </td><td>3   </td><td>... </td><td>2   </td><td>1   </td><td>39  </td><td>3   </td><td>1   </td><td>2   </td><td>2   </td><td>2   </td><td>1   </td><td>2   </td></tr>\n",
       "\t<tr><th scope=row>5</th><td>1   </td><td>1   </td><td>12  </td><td>4   </td><td>0   </td><td>2171</td><td>1   </td><td>3   </td><td>4   </td><td>3   </td><td>... </td><td>4   </td><td>2   </td><td>38  </td><td>1   </td><td>2   </td><td>2   </td><td>2   </td><td>1   </td><td>1   </td><td>2   </td></tr>\n",
       "\t<tr><th scope=row>6</th><td>1   </td><td>1   </td><td>10  </td><td>4   </td><td>0   </td><td>2241</td><td>1   </td><td>2   </td><td>1   </td><td>3   </td><td>... </td><td>3   </td><td>1   </td><td>48  </td><td>3   </td><td>1   </td><td>2   </td><td>2   </td><td>2   </td><td>1   </td><td>2   </td></tr>\n",
       "\t<tr><th scope=row>7</th><td>1   </td><td>1   </td><td>8   </td><td>4   </td><td>0   </td><td>3398</td><td>1   </td><td>4   </td><td>1   </td><td>3   </td><td>... </td><td>4   </td><td>1   </td><td>39  </td><td>3   </td><td>2   </td><td>2   </td><td>2   </td><td>1   </td><td>1   </td><td>2   </td></tr>\n",
       "\t<tr><th scope=row>8</th><td>1   </td><td>1   </td><td>6   </td><td>4   </td><td>0   </td><td>1361</td><td>1   </td><td>2   </td><td>2   </td><td>3   </td><td>... </td><td>4   </td><td>1   </td><td>40  </td><td>3   </td><td>2   </td><td>1   </td><td>2   </td><td>2   </td><td>1   </td><td>2   </td></tr>\n",
       "\t<tr><th scope=row>9</th><td>1   </td><td>4   </td><td>18  </td><td>4   </td><td>3   </td><td>1098</td><td>1   </td><td>1   </td><td>4   </td><td>2   </td><td>... </td><td>4   </td><td>3   </td><td>65  </td><td>3   </td><td>2   </td><td>2   </td><td>1   </td><td>1   </td><td>1   </td><td>1   </td></tr>\n",
       "\t<tr><th scope=row>10</th><td>1   </td><td>2   </td><td>24  </td><td>2   </td><td>3   </td><td>3758</td><td>3   </td><td>1   </td><td>1   </td><td>2   </td><td>... </td><td>4   </td><td>4   </td><td>23  </td><td>3   </td><td>1   </td><td>1   </td><td>1   </td><td>1   </td><td>1   </td><td>1   </td></tr>\n",
       "</tbody>\n",
       "</table>\n"
      ],
      "text/latex": [
       "\\begin{tabular}{r|lllllllllllllllllllll}\n",
       "  & Creditability & Account.Balance & Duration.of.Credit..month. & Payment.Status.of.Previous.Credit & Purpose & Credit.Amount & Value.Savings.Stocks & Length.of.current.employment & Instalment.per.cent & Sex...Marital.Status & ... & Duration.in.Current.address & Most.valuable.available.asset & Age..years. & Concurrent.Credits & Type.of.apartment & No.of.Credits.at.this.Bank & Occupation & No.of.dependents & Telephone & Foreign.Worker\\\\\n",
       "\\hline\n",
       "\t1 & 1    & 1    & 18   & 4    & 2    & 1049 & 1    & 2    & 4    & 2    & ...  & 4    & 2    & 21   & 3    & 1    & 1    & 3    & 1    & 1    & 1   \\\\\n",
       "\t2 & 1    & 1    & 9    & 4    & 0    & 2799 & 1    & 3    & 2    & 3    & ...  & 2    & 1    & 36   & 3    & 1    & 2    & 3    & 2    & 1    & 1   \\\\\n",
       "\t3 & 1   & 2   & 12  & 2   & 9   & 841 & 2   & 4   & 2   & 2   & ... & 4   & 1   & 23  & 3   & 1   & 1   & 2   & 1   & 1   & 1  \\\\\n",
       "\t4 & 1    & 1    & 12   & 4    & 0    & 2122 & 1    & 3    & 3    & 3    & ...  & 2    & 1    & 39   & 3    & 1    & 2    & 2    & 2    & 1    & 2   \\\\\n",
       "\t5 & 1    & 1    & 12   & 4    & 0    & 2171 & 1    & 3    & 4    & 3    & ...  & 4    & 2    & 38   & 1    & 2    & 2    & 2    & 1    & 1    & 2   \\\\\n",
       "\t6 & 1    & 1    & 10   & 4    & 0    & 2241 & 1    & 2    & 1    & 3    & ...  & 3    & 1    & 48   & 3    & 1    & 2    & 2    & 2    & 1    & 2   \\\\\n",
       "\t7 & 1    & 1    & 8    & 4    & 0    & 3398 & 1    & 4    & 1    & 3    & ...  & 4    & 1    & 39   & 3    & 2    & 2    & 2    & 1    & 1    & 2   \\\\\n",
       "\t8 & 1    & 1    & 6    & 4    & 0    & 1361 & 1    & 2    & 2    & 3    & ...  & 4    & 1    & 40   & 3    & 2    & 1    & 2    & 2    & 1    & 2   \\\\\n",
       "\t9 & 1    & 4    & 18   & 4    & 3    & 1098 & 1    & 1    & 4    & 2    & ...  & 4    & 3    & 65   & 3    & 2    & 2    & 1    & 1    & 1    & 1   \\\\\n",
       "\t10 & 1    & 2    & 24   & 2    & 3    & 3758 & 3    & 1    & 1    & 2    & ...  & 4    & 4    & 23   & 3    & 1    & 1    & 1    & 1    & 1    & 1   \\\\\n",
       "\\end{tabular}\n"
      ],
      "text/plain": [
       "   Creditability Account.Balance Duration.of.Credit..month.\n",
       "1              1               1                         18\n",
       "2              1               1                          9\n",
       "3              1               2                         12\n",
       "4              1               1                         12\n",
       "5              1               1                         12\n",
       "6              1               1                         10\n",
       "7              1               1                          8\n",
       "8              1               1                          6\n",
       "9              1               4                         18\n",
       "10             1               2                         24\n",
       "   Payment.Status.of.Previous.Credit Purpose Credit.Amount Value.Savings.Stocks\n",
       "1                                  4       2          1049                    1\n",
       "2                                  4       0          2799                    1\n",
       "3                                  2       9           841                    2\n",
       "4                                  4       0          2122                    1\n",
       "5                                  4       0          2171                    1\n",
       "6                                  4       0          2241                    1\n",
       "7                                  4       0          3398                    1\n",
       "8                                  4       0          1361                    1\n",
       "9                                  4       3          1098                    1\n",
       "10                                 2       3          3758                    3\n",
       "   Length.of.current.employment Instalment.per.cent Sex...Marital.Status ...\n",
       "1                             2                   4                    2 ...\n",
       "2                             3                   2                    3 ...\n",
       "3                             4                   2                    2 ...\n",
       "4                             3                   3                    3 ...\n",
       "5                             3                   4                    3 ...\n",
       "6                             2                   1                    3 ...\n",
       "7                             4                   1                    3 ...\n",
       "8                             2                   2                    3 ...\n",
       "9                             1                   4                    2 ...\n",
       "10                            1                   1                    2 ...\n",
       "   Duration.in.Current.address Most.valuable.available.asset Age..years.\n",
       "1                            4                             2          21\n",
       "2                            2                             1          36\n",
       "3                            4                             1          23\n",
       "4                            2                             1          39\n",
       "5                            4                             2          38\n",
       "6                            3                             1          48\n",
       "7                            4                             1          39\n",
       "8                            4                             1          40\n",
       "9                            4                             3          65\n",
       "10                           4                             4          23\n",
       "   Concurrent.Credits Type.of.apartment No.of.Credits.at.this.Bank Occupation\n",
       "1                   3                 1                          1          3\n",
       "2                   3                 1                          2          3\n",
       "3                   3                 1                          1          2\n",
       "4                   3                 1                          2          2\n",
       "5                   1                 2                          2          2\n",
       "6                   3                 1                          2          2\n",
       "7                   3                 2                          2          2\n",
       "8                   3                 2                          1          2\n",
       "9                   3                 2                          2          1\n",
       "10                  3                 1                          1          1\n",
       "   No.of.dependents Telephone Foreign.Worker\n",
       "1                 1         1              1\n",
       "2                 2         1              1\n",
       "3                 1         1              1\n",
       "4                 2         1              2\n",
       "5                 1         1              2\n",
       "6                 2         1              2\n",
       "7                 1         1              2\n",
       "8                 2         1              2\n",
       "9                 1         1              1\n",
       "10                1         1              1"
      ]
     },
     "metadata": {},
     "output_type": "display_data"
    }
   ],
   "source": [
    "head(df_all,10)\n"
   ]
  },
  {
   "cell_type": "code",
   "execution_count": 139,
   "metadata": {
    "collapsed": false,
    "scrolled": false
   },
   "outputs": [
    {
     "name": "stdout",
     "output_type": "stream",
     "text": [
      "'data.frame':\t1000 obs. of  21 variables:\n",
      " $ Creditability                    : int  1 1 1 1 1 1 1 1 1 1 ...\n",
      " $ Account.Balance                  : int  1 1 2 1 1 1 1 1 4 2 ...\n",
      " $ Duration.of.Credit..month.       : int  18 9 12 12 12 10 8 6 18 24 ...\n",
      " $ Payment.Status.of.Previous.Credit: int  4 4 2 4 4 4 4 4 4 2 ...\n",
      " $ Purpose                          : int  2 0 9 0 0 0 0 0 3 3 ...\n",
      " $ Credit.Amount                    : int  1049 2799 841 2122 2171 2241 3398 1361 1098 3758 ...\n",
      " $ Value.Savings.Stocks             : int  1 1 2 1 1 1 1 1 1 3 ...\n",
      " $ Length.of.current.employment     : int  2 3 4 3 3 2 4 2 1 1 ...\n",
      " $ Instalment.per.cent              : int  4 2 2 3 4 1 1 2 4 1 ...\n",
      " $ Sex...Marital.Status             : int  2 3 2 3 3 3 3 3 2 2 ...\n",
      " $ Guarantors                       : int  1 1 1 1 1 1 1 1 1 1 ...\n",
      " $ Duration.in.Current.address      : int  4 2 4 2 4 3 4 4 4 4 ...\n",
      " $ Most.valuable.available.asset    : int  2 1 1 1 2 1 1 1 3 4 ...\n",
      " $ Age..years.                      : int  21 36 23 39 38 48 39 40 65 23 ...\n",
      " $ Concurrent.Credits               : int  3 3 3 3 1 3 3 3 3 3 ...\n",
      " $ Type.of.apartment                : int  1 1 1 1 2 1 2 2 2 1 ...\n",
      " $ No.of.Credits.at.this.Bank       : int  1 2 1 2 2 2 2 1 2 1 ...\n",
      " $ Occupation                       : int  3 3 2 2 2 2 2 2 1 1 ...\n",
      " $ No.of.dependents                 : int  1 2 1 2 1 2 1 2 1 1 ...\n",
      " $ Telephone                        : int  1 1 1 1 1 1 1 1 1 1 ...\n",
      " $ Foreign.Worker                   : int  1 1 1 2 2 2 2 2 1 1 ...\n"
     ]
    }
   ],
   "source": [
    "str(df_all) \n"
   ]
  },
  {
   "cell_type": "code",
   "execution_count": 140,
   "metadata": {
    "collapsed": false
   },
   "outputs": [
    {
     "data": {
      "text/html": [
       "<ol class=list-inline>\n",
       "\t<li>\"Creditability\"</li>\n",
       "\t<li>\"Account.Balance\"</li>\n",
       "\t<li>\"Duration.of.Credit..month.\"</li>\n",
       "\t<li>\"Payment.Status.of.Previous.Credit\"</li>\n",
       "\t<li>\"Purpose\"</li>\n",
       "\t<li>\"Credit.Amount\"</li>\n",
       "\t<li>\"Value.Savings.Stocks\"</li>\n",
       "\t<li>\"Length.of.current.employment\"</li>\n",
       "\t<li>\"Instalment.per.cent\"</li>\n",
       "\t<li>\"Sex...Marital.Status\"</li>\n",
       "\t<li>\"Guarantors\"</li>\n",
       "\t<li>\"Duration.in.Current.address\"</li>\n",
       "\t<li>\"Most.valuable.available.asset\"</li>\n",
       "\t<li>\"Age..years.\"</li>\n",
       "\t<li>\"Concurrent.Credits\"</li>\n",
       "\t<li>\"Type.of.apartment\"</li>\n",
       "\t<li>\"No.of.Credits.at.this.Bank\"</li>\n",
       "\t<li>\"Occupation\"</li>\n",
       "\t<li>\"No.of.dependents\"</li>\n",
       "\t<li>\"Telephone\"</li>\n",
       "\t<li>\"Foreign.Worker\"</li>\n",
       "</ol>\n"
      ],
      "text/latex": [
       "\\begin{enumerate*}\n",
       "\\item \"Creditability\"\n",
       "\\item \"Account.Balance\"\n",
       "\\item \"Duration.of.Credit..month.\"\n",
       "\\item \"Payment.Status.of.Previous.Credit\"\n",
       "\\item \"Purpose\"\n",
       "\\item \"Credit.Amount\"\n",
       "\\item \"Value.Savings.Stocks\"\n",
       "\\item \"Length.of.current.employment\"\n",
       "\\item \"Instalment.per.cent\"\n",
       "\\item \"Sex...Marital.Status\"\n",
       "\\item \"Guarantors\"\n",
       "\\item \"Duration.in.Current.address\"\n",
       "\\item \"Most.valuable.available.asset\"\n",
       "\\item \"Age..years.\"\n",
       "\\item \"Concurrent.Credits\"\n",
       "\\item \"Type.of.apartment\"\n",
       "\\item \"No.of.Credits.at.this.Bank\"\n",
       "\\item \"Occupation\"\n",
       "\\item \"No.of.dependents\"\n",
       "\\item \"Telephone\"\n",
       "\\item \"Foreign.Worker\"\n",
       "\\end{enumerate*}\n"
      ],
      "text/markdown": [
       "1. \"Creditability\"\n",
       "2. \"Account.Balance\"\n",
       "3. \"Duration.of.Credit..month.\"\n",
       "4. \"Payment.Status.of.Previous.Credit\"\n",
       "5. \"Purpose\"\n",
       "6. \"Credit.Amount\"\n",
       "7. \"Value.Savings.Stocks\"\n",
       "8. \"Length.of.current.employment\"\n",
       "9. \"Instalment.per.cent\"\n",
       "10. \"Sex...Marital.Status\"\n",
       "11. \"Guarantors\"\n",
       "12. \"Duration.in.Current.address\"\n",
       "13. \"Most.valuable.available.asset\"\n",
       "14. \"Age..years.\"\n",
       "15. \"Concurrent.Credits\"\n",
       "16. \"Type.of.apartment\"\n",
       "17. \"No.of.Credits.at.this.Bank\"\n",
       "18. \"Occupation\"\n",
       "19. \"No.of.dependents\"\n",
       "20. \"Telephone\"\n",
       "21. \"Foreign.Worker\"\n",
       "\n",
       "\n"
      ],
      "text/plain": [
       " [1] \"Creditability\"                     \"Account.Balance\"                  \n",
       " [3] \"Duration.of.Credit..month.\"        \"Payment.Status.of.Previous.Credit\"\n",
       " [5] \"Purpose\"                           \"Credit.Amount\"                    \n",
       " [7] \"Value.Savings.Stocks\"              \"Length.of.current.employment\"     \n",
       " [9] \"Instalment.per.cent\"               \"Sex...Marital.Status\"             \n",
       "[11] \"Guarantors\"                        \"Duration.in.Current.address\"      \n",
       "[13] \"Most.valuable.available.asset\"     \"Age..years.\"                      \n",
       "[15] \"Concurrent.Credits\"                \"Type.of.apartment\"                \n",
       "[17] \"No.of.Credits.at.this.Bank\"        \"Occupation\"                       \n",
       "[19] \"No.of.dependents\"                  \"Telephone\"                        \n",
       "[21] \"Foreign.Worker\"                   "
      ]
     },
     "metadata": {},
     "output_type": "display_data"
    }
   ],
   "source": [
    "names(df_all)"
   ]
  },
  {
   "cell_type": "markdown",
   "metadata": {},
   "source": [
    "With the data description   (<a href=\"https://onlinecourses.science.psu.edu/stat857/node/222\">Data Description</a>), we can transform some variables to categorical"
   ]
  },
  {
   "cell_type": "code",
   "execution_count": 141,
   "metadata": {
    "collapsed": true
   },
   "outputs": [],
   "source": [
    "#making some colums categorical cf psu table\n",
    "\n",
    "catList <- c('Creditability', 'Account.Balance', 'Type.of.apartment', 'No.of.Credits.at.this.Bank',   'Occupation',  'Most.valuable.available.asset',\n",
    "             'No.of.dependents', 'Telephone',    'Foreign.Worker', 'Sex...Marital.Status',\n",
    "             'Guarantors',    'Duration.in.Current.address','Concurrent.Credits', 'Payment.Status.of.Previous.Credit',\n",
    "            'Value.Savings.Stocks', 'Length.of.current.employment', 'Instalment.per.cent', 'Purpose')\n",
    "\n",
    "df_all[,catList] <- lapply(df_all[, catList],\n",
    "                      function(x) as.factor(as.character(x)))   \n",
    "                          \n"
   ]
  },
  {
   "cell_type": "code",
   "execution_count": 142,
   "metadata": {
    "collapsed": false,
    "scrolled": false
   },
   "outputs": [
    {
     "name": "stdout",
     "output_type": "stream",
     "text": [
      "'data.frame':\t1000 obs. of  21 variables:\n",
      " $ Creditability                    : Factor w/ 2 levels \"0\",\"1\": 2 2 2 2 2 2 2 2 2 2 ...\n",
      " $ Account.Balance                  : Factor w/ 4 levels \"1\",\"2\",\"3\",\"4\": 1 1 2 1 1 1 1 1 4 2 ...\n",
      " $ Duration.of.Credit..month.       : int  18 9 12 12 12 10 8 6 18 24 ...\n",
      " $ Payment.Status.of.Previous.Credit: Factor w/ 5 levels \"0\",\"1\",\"2\",\"3\",..: 5 5 3 5 5 5 5 5 5 3 ...\n",
      " $ Purpose                          : Factor w/ 10 levels \"0\",\"1\",\"10\",\"2\",..: 4 1 10 1 1 1 1 1 5 5 ...\n",
      " $ Credit.Amount                    : int  1049 2799 841 2122 2171 2241 3398 1361 1098 3758 ...\n",
      " $ Value.Savings.Stocks             : Factor w/ 5 levels \"1\",\"2\",\"3\",\"4\",..: 1 1 2 1 1 1 1 1 1 3 ...\n",
      " $ Length.of.current.employment     : Factor w/ 5 levels \"1\",\"2\",\"3\",\"4\",..: 2 3 4 3 3 2 4 2 1 1 ...\n",
      " $ Instalment.per.cent              : Factor w/ 4 levels \"1\",\"2\",\"3\",\"4\": 4 2 2 3 4 1 1 2 4 1 ...\n",
      " $ Sex...Marital.Status             : Factor w/ 4 levels \"1\",\"2\",\"3\",\"4\": 2 3 2 3 3 3 3 3 2 2 ...\n",
      " $ Guarantors                       : Factor w/ 3 levels \"1\",\"2\",\"3\": 1 1 1 1 1 1 1 1 1 1 ...\n",
      " $ Duration.in.Current.address      : Factor w/ 4 levels \"1\",\"2\",\"3\",\"4\": 4 2 4 2 4 3 4 4 4 4 ...\n",
      " $ Most.valuable.available.asset    : Factor w/ 4 levels \"1\",\"2\",\"3\",\"4\": 2 1 1 1 2 1 1 1 3 4 ...\n",
      " $ Age..years.                      : int  21 36 23 39 38 48 39 40 65 23 ...\n",
      " $ Concurrent.Credits               : Factor w/ 3 levels \"1\",\"2\",\"3\": 3 3 3 3 1 3 3 3 3 3 ...\n",
      " $ Type.of.apartment                : Factor w/ 3 levels \"1\",\"2\",\"3\": 1 1 1 1 2 1 2 2 2 1 ...\n",
      " $ No.of.Credits.at.this.Bank       : Factor w/ 4 levels \"1\",\"2\",\"3\",\"4\": 1 2 1 2 2 2 2 1 2 1 ...\n",
      " $ Occupation                       : Factor w/ 4 levels \"1\",\"2\",\"3\",\"4\": 3 3 2 2 2 2 2 2 1 1 ...\n",
      " $ No.of.dependents                 : Factor w/ 2 levels \"1\",\"2\": 1 2 1 2 1 2 1 2 1 1 ...\n",
      " $ Telephone                        : Factor w/ 2 levels \"1\",\"2\": 1 1 1 1 1 1 1 1 1 1 ...\n",
      " $ Foreign.Worker                   : Factor w/ 2 levels \"1\",\"2\": 1 1 1 2 2 2 2 2 1 1 ...\n"
     ]
    }
   ],
   "source": [
    "\n",
    "\n",
    "str(df_all) "
   ]
  },
  {
   "cell_type": "code",
   "execution_count": 143,
   "metadata": {
    "collapsed": false,
    "scrolled": true
   },
   "outputs": [],
   "source": [
    "catList <- names(df_all)[which(sapply(df_all, is.factor))]\n",
    "\n",
    "countList <- names(df_all)[which(sapply(df_all, is.numeric))]"
   ]
  },
  {
   "cell_type": "code",
   "execution_count": 144,
   "metadata": {
    "collapsed": false
   },
   "outputs": [
    {
     "data": {
      "text/html": [
       "<ol class=list-inline>\n",
       "\t<li>\"Creditability\"</li>\n",
       "\t<li>\"Account.Balance\"</li>\n",
       "\t<li>\"Payment.Status.of.Previous.Credit\"</li>\n",
       "\t<li>\"Purpose\"</li>\n",
       "\t<li>\"Value.Savings.Stocks\"</li>\n",
       "\t<li>\"Length.of.current.employment\"</li>\n",
       "\t<li>\"Instalment.per.cent\"</li>\n",
       "\t<li>\"Sex...Marital.Status\"</li>\n",
       "\t<li>\"Guarantors\"</li>\n",
       "\t<li>\"Duration.in.Current.address\"</li>\n",
       "\t<li>\"Most.valuable.available.asset\"</li>\n",
       "\t<li>\"Concurrent.Credits\"</li>\n",
       "\t<li>\"Type.of.apartment\"</li>\n",
       "\t<li>\"No.of.Credits.at.this.Bank\"</li>\n",
       "\t<li>\"Occupation\"</li>\n",
       "\t<li>\"No.of.dependents\"</li>\n",
       "\t<li>\"Telephone\"</li>\n",
       "\t<li>\"Foreign.Worker\"</li>\n",
       "</ol>\n"
      ],
      "text/latex": [
       "\\begin{enumerate*}\n",
       "\\item \"Creditability\"\n",
       "\\item \"Account.Balance\"\n",
       "\\item \"Payment.Status.of.Previous.Credit\"\n",
       "\\item \"Purpose\"\n",
       "\\item \"Value.Savings.Stocks\"\n",
       "\\item \"Length.of.current.employment\"\n",
       "\\item \"Instalment.per.cent\"\n",
       "\\item \"Sex...Marital.Status\"\n",
       "\\item \"Guarantors\"\n",
       "\\item \"Duration.in.Current.address\"\n",
       "\\item \"Most.valuable.available.asset\"\n",
       "\\item \"Concurrent.Credits\"\n",
       "\\item \"Type.of.apartment\"\n",
       "\\item \"No.of.Credits.at.this.Bank\"\n",
       "\\item \"Occupation\"\n",
       "\\item \"No.of.dependents\"\n",
       "\\item \"Telephone\"\n",
       "\\item \"Foreign.Worker\"\n",
       "\\end{enumerate*}\n"
      ],
      "text/markdown": [
       "1. \"Creditability\"\n",
       "2. \"Account.Balance\"\n",
       "3. \"Payment.Status.of.Previous.Credit\"\n",
       "4. \"Purpose\"\n",
       "5. \"Value.Savings.Stocks\"\n",
       "6. \"Length.of.current.employment\"\n",
       "7. \"Instalment.per.cent\"\n",
       "8. \"Sex...Marital.Status\"\n",
       "9. \"Guarantors\"\n",
       "10. \"Duration.in.Current.address\"\n",
       "11. \"Most.valuable.available.asset\"\n",
       "12. \"Concurrent.Credits\"\n",
       "13. \"Type.of.apartment\"\n",
       "14. \"No.of.Credits.at.this.Bank\"\n",
       "15. \"Occupation\"\n",
       "16. \"No.of.dependents\"\n",
       "17. \"Telephone\"\n",
       "18. \"Foreign.Worker\"\n",
       "\n",
       "\n"
      ],
      "text/plain": [
       " [1] \"Creditability\"                     \"Account.Balance\"                  \n",
       " [3] \"Payment.Status.of.Previous.Credit\" \"Purpose\"                          \n",
       " [5] \"Value.Savings.Stocks\"              \"Length.of.current.employment\"     \n",
       " [7] \"Instalment.per.cent\"               \"Sex...Marital.Status\"             \n",
       " [9] \"Guarantors\"                        \"Duration.in.Current.address\"      \n",
       "[11] \"Most.valuable.available.asset\"     \"Concurrent.Credits\"               \n",
       "[13] \"Type.of.apartment\"                 \"No.of.Credits.at.this.Bank\"       \n",
       "[15] \"Occupation\"                        \"No.of.dependents\"                 \n",
       "[17] \"Telephone\"                         \"Foreign.Worker\"                   "
      ]
     },
     "metadata": {},
     "output_type": "display_data"
    },
    {
     "data": {
      "text/html": [
       "18"
      ],
      "text/latex": [
       "18"
      ],
      "text/markdown": [
       "18"
      ],
      "text/plain": [
       "[1] 18"
      ]
     },
     "metadata": {},
     "output_type": "display_data"
    }
   ],
   "source": [
    "catList\n",
    "length(catList)"
   ]
  },
  {
   "cell_type": "code",
   "execution_count": 145,
   "metadata": {
    "collapsed": false
   },
   "outputs": [
    {
     "data": {
      "text/html": [
       "<ol class=list-inline>\n",
       "\t<li>\"Duration.of.Credit..month.\"</li>\n",
       "\t<li>\"Credit.Amount\"</li>\n",
       "\t<li>\"Age..years.\"</li>\n",
       "</ol>\n"
      ],
      "text/latex": [
       "\\begin{enumerate*}\n",
       "\\item \"Duration.of.Credit..month.\"\n",
       "\\item \"Credit.Amount\"\n",
       "\\item \"Age..years.\"\n",
       "\\end{enumerate*}\n"
      ],
      "text/markdown": [
       "1. \"Duration.of.Credit..month.\"\n",
       "2. \"Credit.Amount\"\n",
       "3. \"Age..years.\"\n",
       "\n",
       "\n"
      ],
      "text/plain": [
       "[1] \"Duration.of.Credit..month.\" \"Credit.Amount\"             \n",
       "[3] \"Age..years.\"               "
      ]
     },
     "metadata": {},
     "output_type": "display_data"
    }
   ],
   "source": [
    "countList"
   ]
  },
  {
   "cell_type": "markdown",
   "metadata": {},
   "source": [
    "####  Missing values in R are represented by NA and NaN. Now we’ll explore the missing values"
   ]
  },
  {
   "cell_type": "code",
   "execution_count": 146,
   "metadata": {
    "collapsed": false
   },
   "outputs": [
    {
     "data": {
      "text/html": [
       "<dl class=dl-horizontal>\n",
       "\t<dt>Creditability</dt>\n",
       "\t\t<dd>0</dd>\n",
       "\t<dt>Account.Balance</dt>\n",
       "\t\t<dd>0</dd>\n",
       "\t<dt>Duration.of.Credit..month.</dt>\n",
       "\t\t<dd>0</dd>\n",
       "\t<dt>Payment.Status.of.Previous.Credit</dt>\n",
       "\t\t<dd>0</dd>\n",
       "\t<dt>Purpose</dt>\n",
       "\t\t<dd>0</dd>\n",
       "\t<dt>Credit.Amount</dt>\n",
       "\t\t<dd>0</dd>\n",
       "\t<dt>Value.Savings.Stocks</dt>\n",
       "\t\t<dd>0</dd>\n",
       "\t<dt>Length.of.current.employment</dt>\n",
       "\t\t<dd>0</dd>\n",
       "\t<dt>Instalment.per.cent</dt>\n",
       "\t\t<dd>0</dd>\n",
       "\t<dt>Sex...Marital.Status</dt>\n",
       "\t\t<dd>0</dd>\n",
       "\t<dt>Guarantors</dt>\n",
       "\t\t<dd>0</dd>\n",
       "\t<dt>Duration.in.Current.address</dt>\n",
       "\t\t<dd>0</dd>\n",
       "\t<dt>Most.valuable.available.asset</dt>\n",
       "\t\t<dd>0</dd>\n",
       "\t<dt>Age..years.</dt>\n",
       "\t\t<dd>0</dd>\n",
       "\t<dt>Concurrent.Credits</dt>\n",
       "\t\t<dd>0</dd>\n",
       "\t<dt>Type.of.apartment</dt>\n",
       "\t\t<dd>0</dd>\n",
       "\t<dt>No.of.Credits.at.this.Bank</dt>\n",
       "\t\t<dd>0</dd>\n",
       "\t<dt>Occupation</dt>\n",
       "\t\t<dd>0</dd>\n",
       "\t<dt>No.of.dependents</dt>\n",
       "\t\t<dd>0</dd>\n",
       "\t<dt>Telephone</dt>\n",
       "\t\t<dd>0</dd>\n",
       "\t<dt>Foreign.Worker</dt>\n",
       "\t\t<dd>0</dd>\n",
       "</dl>\n"
      ],
      "text/latex": [
       "\\begin{description*}\n",
       "\\item[Creditability] 0\n",
       "\\item[Account.Balance] 0\n",
       "\\item[Duration.of.Credit..month.] 0\n",
       "\\item[Payment.Status.of.Previous.Credit] 0\n",
       "\\item[Purpose] 0\n",
       "\\item[Credit.Amount] 0\n",
       "\\item[Value.Savings.Stocks] 0\n",
       "\\item[Length.of.current.employment] 0\n",
       "\\item[Instalment.per.cent] 0\n",
       "\\item[Sex...Marital.Status] 0\n",
       "\\item[Guarantors] 0\n",
       "\\item[Duration.in.Current.address] 0\n",
       "\\item[Most.valuable.available.asset] 0\n",
       "\\item[Age..years.] 0\n",
       "\\item[Concurrent.Credits] 0\n",
       "\\item[Type.of.apartment] 0\n",
       "\\item[No.of.Credits.at.this.Bank] 0\n",
       "\\item[Occupation] 0\n",
       "\\item[No.of.dependents] 0\n",
       "\\item[Telephone] 0\n",
       "\\item[Foreign.Worker] 0\n",
       "\\end{description*}\n"
      ],
      "text/markdown": [
       "Creditability\n",
       ":   0Account.Balance\n",
       ":   0Duration.of.Credit..month.\n",
       ":   0Payment.Status.of.Previous.Credit\n",
       ":   0Purpose\n",
       ":   0Credit.Amount\n",
       ":   0Value.Savings.Stocks\n",
       ":   0Length.of.current.employment\n",
       ":   0Instalment.per.cent\n",
       ":   0Sex...Marital.Status\n",
       ":   0Guarantors\n",
       ":   0Duration.in.Current.address\n",
       ":   0Most.valuable.available.asset\n",
       ":   0Age..years.\n",
       ":   0Concurrent.Credits\n",
       ":   0Type.of.apartment\n",
       ":   0No.of.Credits.at.this.Bank\n",
       ":   0Occupation\n",
       ":   0No.of.dependents\n",
       ":   0Telephone\n",
       ":   0Foreign.Worker\n",
       ":   0\n",
       "\n"
      ],
      "text/plain": [
       "                    Creditability                   Account.Balance \n",
       "                                0                                 0 \n",
       "       Duration.of.Credit..month. Payment.Status.of.Previous.Credit \n",
       "                                0                                 0 \n",
       "                          Purpose                     Credit.Amount \n",
       "                                0                                 0 \n",
       "             Value.Savings.Stocks      Length.of.current.employment \n",
       "                                0                                 0 \n",
       "              Instalment.per.cent              Sex...Marital.Status \n",
       "                                0                                 0 \n",
       "                       Guarantors       Duration.in.Current.address \n",
       "                                0                                 0 \n",
       "    Most.valuable.available.asset                       Age..years. \n",
       "                                0                                 0 \n",
       "               Concurrent.Credits                 Type.of.apartment \n",
       "                                0                                 0 \n",
       "       No.of.Credits.at.this.Bank                        Occupation \n",
       "                                0                                 0 \n",
       "                 No.of.dependents                         Telephone \n",
       "                                0                                 0 \n",
       "                   Foreign.Worker \n",
       "                                0 "
      ]
     },
     "metadata": {},
     "output_type": "display_data"
    }
   ],
   "source": [
    "colSums(sapply(df_all, is.na))"
   ]
  },
  {
   "cell_type": "code",
   "execution_count": 147,
   "metadata": {
    "collapsed": false
   },
   "outputs": [
    {
     "data": {
      "text/html": [
       "<dl class=dl-horizontal>\n",
       "\t<dt>Creditability</dt>\n",
       "\t\t<dd>0</dd>\n",
       "\t<dt>Account.Balance</dt>\n",
       "\t\t<dd>0</dd>\n",
       "\t<dt>Payment.Status.of.Previous.Credit</dt>\n",
       "\t\t<dd>0</dd>\n",
       "\t<dt>Purpose</dt>\n",
       "\t\t<dd>0</dd>\n",
       "\t<dt>Value.Savings.Stocks</dt>\n",
       "\t\t<dd>0</dd>\n",
       "\t<dt>Length.of.current.employment</dt>\n",
       "\t\t<dd>0</dd>\n",
       "\t<dt>Instalment.per.cent</dt>\n",
       "\t\t<dd>0</dd>\n",
       "\t<dt>Sex...Marital.Status</dt>\n",
       "\t\t<dd>0</dd>\n",
       "\t<dt>Guarantors</dt>\n",
       "\t\t<dd>0</dd>\n",
       "\t<dt>Duration.in.Current.address</dt>\n",
       "\t\t<dd>0</dd>\n",
       "\t<dt>Most.valuable.available.asset</dt>\n",
       "\t\t<dd>0</dd>\n",
       "\t<dt>Concurrent.Credits</dt>\n",
       "\t\t<dd>0</dd>\n",
       "\t<dt>Type.of.apartment</dt>\n",
       "\t\t<dd>0</dd>\n",
       "\t<dt>No.of.Credits.at.this.Bank</dt>\n",
       "\t\t<dd>0</dd>\n",
       "\t<dt>Occupation</dt>\n",
       "\t\t<dd>0</dd>\n",
       "\t<dt>No.of.dependents</dt>\n",
       "\t\t<dd>0</dd>\n",
       "\t<dt>Telephone</dt>\n",
       "\t\t<dd>0</dd>\n",
       "\t<dt>Foreign.Worker</dt>\n",
       "\t\t<dd>0</dd>\n",
       "</dl>\n"
      ],
      "text/latex": [
       "\\begin{description*}\n",
       "\\item[Creditability] 0\n",
       "\\item[Account.Balance] 0\n",
       "\\item[Payment.Status.of.Previous.Credit] 0\n",
       "\\item[Purpose] 0\n",
       "\\item[Value.Savings.Stocks] 0\n",
       "\\item[Length.of.current.employment] 0\n",
       "\\item[Instalment.per.cent] 0\n",
       "\\item[Sex...Marital.Status] 0\n",
       "\\item[Guarantors] 0\n",
       "\\item[Duration.in.Current.address] 0\n",
       "\\item[Most.valuable.available.asset] 0\n",
       "\\item[Concurrent.Credits] 0\n",
       "\\item[Type.of.apartment] 0\n",
       "\\item[No.of.Credits.at.this.Bank] 0\n",
       "\\item[Occupation] 0\n",
       "\\item[No.of.dependents] 0\n",
       "\\item[Telephone] 0\n",
       "\\item[Foreign.Worker] 0\n",
       "\\end{description*}\n"
      ],
      "text/markdown": [
       "Creditability\n",
       ":   0Account.Balance\n",
       ":   0Payment.Status.of.Previous.Credit\n",
       ":   0Purpose\n",
       ":   0Value.Savings.Stocks\n",
       ":   0Length.of.current.employment\n",
       ":   0Instalment.per.cent\n",
       ":   0Sex...Marital.Status\n",
       ":   0Guarantors\n",
       ":   0Duration.in.Current.address\n",
       ":   0Most.valuable.available.asset\n",
       ":   0Concurrent.Credits\n",
       ":   0Type.of.apartment\n",
       ":   0No.of.Credits.at.this.Bank\n",
       ":   0Occupation\n",
       ":   0No.of.dependents\n",
       ":   0Telephone\n",
       ":   0Foreign.Worker\n",
       ":   0\n",
       "\n"
      ],
      "text/plain": [
       "                    Creditability                   Account.Balance \n",
       "                                0                                 0 \n",
       "Payment.Status.of.Previous.Credit                           Purpose \n",
       "                                0                                 0 \n",
       "             Value.Savings.Stocks      Length.of.current.employment \n",
       "                                0                                 0 \n",
       "              Instalment.per.cent              Sex...Marital.Status \n",
       "                                0                                 0 \n",
       "                       Guarantors       Duration.in.Current.address \n",
       "                                0                                 0 \n",
       "    Most.valuable.available.asset                Concurrent.Credits \n",
       "                                0                                 0 \n",
       "                Type.of.apartment        No.of.Credits.at.this.Bank \n",
       "                                0                                 0 \n",
       "                       Occupation                  No.of.dependents \n",
       "                                0                                 0 \n",
       "                        Telephone                    Foreign.Worker \n",
       "                                0                                 0 "
      ]
     },
     "metadata": {},
     "output_type": "display_data"
    }
   ],
   "source": [
    "\n",
    "colSums(sapply(df_all[, catList], is.na))"
   ]
  },
  {
   "cell_type": "markdown",
   "metadata": {},
   "source": [
    "Among the categorical variables, columns ... have the largest missing values."
   ]
  },
  {
   "cell_type": "code",
   "execution_count": 148,
   "metadata": {
    "collapsed": false,
    "scrolled": true
   },
   "outputs": [
    {
     "data": {
      "text/html": [
       "<dl class=dl-horizontal>\n",
       "\t<dt>Duration.of.Credit..month.</dt>\n",
       "\t\t<dd>0</dd>\n",
       "\t<dt>Credit.Amount</dt>\n",
       "\t\t<dd>0</dd>\n",
       "\t<dt>Age..years.</dt>\n",
       "\t\t<dd>0</dd>\n",
       "</dl>\n"
      ],
      "text/latex": [
       "\\begin{description*}\n",
       "\\item[Duration.of.Credit..month.] 0\n",
       "\\item[Credit.Amount] 0\n",
       "\\item[Age..years.] 0\n",
       "\\end{description*}\n"
      ],
      "text/markdown": [
       "Duration.of.Credit..month.\n",
       ":   0Credit.Amount\n",
       ":   0Age..years.\n",
       ":   0\n",
       "\n"
      ],
      "text/plain": [
       "Duration.of.Credit..month.              Credit.Amount \n",
       "                         0                          0 \n",
       "               Age..years. \n",
       "                         0 "
      ]
     },
     "metadata": {},
     "output_type": "display_data"
    }
   ],
   "source": [
    "colSums(sapply(df_all[, countList], is.na))"
   ]
  },
  {
   "cell_type": "markdown",
   "metadata": {},
   "source": [
    "Apparently there is no missing values"
   ]
  },
  {
   "cell_type": "markdown",
   "metadata": {},
   "source": [
    "Visualization for the missing data."
   ]
  },
  {
   "cell_type": "code",
   "execution_count": 149,
   "metadata": {
    "collapsed": false,
    "scrolled": true
   },
   "outputs": [
    {
     "data": {},
     "metadata": {},
     "output_type": "display_data"
    },
    {
     "data": {
      "image/png": "[encoded data removed]",
      "text/plain": [
       "plot without title"
      ]
     },
     "metadata": {},
     "output_type": "display_data"
    }
   ],
   "source": [
    "library(ggplot2)\n",
    "\n",
    "plot_Missing <- function(data_in, title = NULL){\n",
    "  temp_df <- as.data.frame(ifelse(is.na(data_in), 0, 1))\n",
    "  temp_df <- temp_df[,order(colSums(temp_df))]\n",
    "  data_temp <- expand.grid(list(x = 1:nrow(temp_df), y = colnames(temp_df)))\n",
    "  data_temp$m <- as.vector(as.matrix(temp_df))\n",
    "  data_temp <- data.frame(x = unlist(data_temp$x), y = unlist(data_temp$y), m = unlist(data_temp$m))\n",
    "  ggplot(data_temp) + geom_tile(aes(x=x, y=y, fill=factor(m))) + scale_fill_manual(values=c(\"white\", \"black\"), name=\"Missing\\n(0=Yes, 1=No)\") + theme_light() + ylab(\"\") + xlab(\"\") + ggtitle(title)\n",
    "}\n",
    "\n",
    "\n",
    "plot_Missing(df_all[,colSums(is.na(df_all)) >= 0])"
   ]
  },
  {
   "cell_type": "markdown",
   "metadata": {},
   "source": [
    "#### Dimension Reduction using Variable Clustering\n",
    "\n",
    "The main idea is to reduce the number of columns to a subset of  variables which are the most relevant to predict the target."
   ]
  },
  {
   "cell_type": "code",
   "execution_count": 150,
   "metadata": {
    "collapsed": false
   },
   "outputs": [
    {
     "data": {
      "text/html": [
       "<ol class=list-inline>\n",
       "\t<li>\"Creditability\"</li>\n",
       "\t<li>\"Account.Balance\"</li>\n",
       "\t<li>\"Payment.Status.of.Previous.Credit\"</li>\n",
       "\t<li>\"Purpose\"</li>\n",
       "\t<li>\"Value.Savings.Stocks\"</li>\n",
       "\t<li>\"Length.of.current.employment\"</li>\n",
       "\t<li>\"Instalment.per.cent\"</li>\n",
       "\t<li>\"Sex...Marital.Status\"</li>\n",
       "\t<li>\"Guarantors\"</li>\n",
       "\t<li>\"Duration.in.Current.address\"</li>\n",
       "\t<li>\"Most.valuable.available.asset\"</li>\n",
       "\t<li>\"Concurrent.Credits\"</li>\n",
       "\t<li>\"Type.of.apartment\"</li>\n",
       "\t<li>\"No.of.Credits.at.this.Bank\"</li>\n",
       "\t<li>\"Occupation\"</li>\n",
       "\t<li>\"No.of.dependents\"</li>\n",
       "\t<li>\"Telephone\"</li>\n",
       "\t<li>\"Foreign.Worker\"</li>\n",
       "</ol>\n"
      ],
      "text/latex": [
       "\\begin{enumerate*}\n",
       "\\item \"Creditability\"\n",
       "\\item \"Account.Balance\"\n",
       "\\item \"Payment.Status.of.Previous.Credit\"\n",
       "\\item \"Purpose\"\n",
       "\\item \"Value.Savings.Stocks\"\n",
       "\\item \"Length.of.current.employment\"\n",
       "\\item \"Instalment.per.cent\"\n",
       "\\item \"Sex...Marital.Status\"\n",
       "\\item \"Guarantors\"\n",
       "\\item \"Duration.in.Current.address\"\n",
       "\\item \"Most.valuable.available.asset\"\n",
       "\\item \"Concurrent.Credits\"\n",
       "\\item \"Type.of.apartment\"\n",
       "\\item \"No.of.Credits.at.this.Bank\"\n",
       "\\item \"Occupation\"\n",
       "\\item \"No.of.dependents\"\n",
       "\\item \"Telephone\"\n",
       "\\item \"Foreign.Worker\"\n",
       "\\end{enumerate*}\n"
      ],
      "text/markdown": [
       "1. \"Creditability\"\n",
       "2. \"Account.Balance\"\n",
       "3. \"Payment.Status.of.Previous.Credit\"\n",
       "4. \"Purpose\"\n",
       "5. \"Value.Savings.Stocks\"\n",
       "6. \"Length.of.current.employment\"\n",
       "7. \"Instalment.per.cent\"\n",
       "8. \"Sex...Marital.Status\"\n",
       "9. \"Guarantors\"\n",
       "10. \"Duration.in.Current.address\"\n",
       "11. \"Most.valuable.available.asset\"\n",
       "12. \"Concurrent.Credits\"\n",
       "13. \"Type.of.apartment\"\n",
       "14. \"No.of.Credits.at.this.Bank\"\n",
       "15. \"Occupation\"\n",
       "16. \"No.of.dependents\"\n",
       "17. \"Telephone\"\n",
       "18. \"Foreign.Worker\"\n",
       "\n",
       "\n"
      ],
      "text/plain": [
       " [1] \"Creditability\"                     \"Account.Balance\"                  \n",
       " [3] \"Payment.Status.of.Previous.Credit\" \"Purpose\"                          \n",
       " [5] \"Value.Savings.Stocks\"              \"Length.of.current.employment\"     \n",
       " [7] \"Instalment.per.cent\"               \"Sex...Marital.Status\"             \n",
       " [9] \"Guarantors\"                        \"Duration.in.Current.address\"      \n",
       "[11] \"Most.valuable.available.asset\"     \"Concurrent.Credits\"               \n",
       "[13] \"Type.of.apartment\"                 \"No.of.Credits.at.this.Bank\"       \n",
       "[15] \"Occupation\"                        \"No.of.dependents\"                 \n",
       "[17] \"Telephone\"                         \"Foreign.Worker\"                   "
      ]
     },
     "metadata": {},
     "output_type": "display_data"
    }
   ],
   "source": [
    "catList"
   ]
  },
  {
   "cell_type": "code",
   "execution_count": 151,
   "metadata": {
    "collapsed": false
   },
   "outputs": [
    {
     "data": {
      "image/png": "[encoded data removed]",
      "text/plain": [
       "Plot with title \"variable clustering\""
      ]
     },
     "metadata": {},
     "output_type": "display_data"
    }
   ],
   "source": [
    "library(ClustOfVar)\n",
    "\n",
    "tree <- hclustvar(X.quanti=df_all[,countList], X.quali=df_all[,catList[-1]])\n",
    "\n",
    "plot(tree, main=\"variable clustering\")\n",
    "\n",
    "rect.hclust(tree, k=16,  border = 1:16) #n clusters (tuned)"
   ]
  },
  {
   "cell_type": "code",
   "execution_count": 152,
   "metadata": {
    "collapsed": false,
    "scrolled": true
   },
   "outputs": [
    {
     "data": {
      "text/plain": [
       "         Length Class      Mode     \n",
       "call       3    -none-     call     \n",
       "rec       14    -none-     list     \n",
       "merge     38    -none-     numeric  \n",
       "height    19    -none-     numeric  \n",
       "order     20    -none-     numeric  \n",
       "labels    20    -none-     character\n",
       "clusmat  400    -none-     numeric  \n",
       "X.quanti   3    data.frame list     \n",
       "X.quali   17    data.frame list     "
      ]
     },
     "metadata": {},
     "output_type": "display_data"
    }
   ],
   "source": [
    "summary(tree)"
   ]
  },
  {
   "cell_type": "code",
   "execution_count": 153,
   "metadata": {
    "collapsed": false,
    "scrolled": false
   },
   "outputs": [
    {
     "data": {
      "image/png": "[encoded data removed]",
      "text/plain": [
       "plot without title"
      ]
     },
     "metadata": {},
     "output_type": "display_data"
    }
   ],
   "source": [
    "# Phylogenetic trees\n",
    "library(\"ape\")\n",
    "plot(as.phylo(tree), type = \"fan\",\n",
    "     tip.color = hsv(runif(15, 0.65,  0.95), 1, 1, 0.7),\n",
    "     edge.color = hsv(runif(10, 0.65, 0.75), 1, 1, 0.7), \n",
    "     edge.width = runif(20,  0.5, 3), use.edge.length = TRUE, col = \"gray80\")"
   ]
  },
  {
   "cell_type": "code",
   "execution_count": 154,
   "metadata": {
    "collapsed": false,
    "scrolled": true
   },
   "outputs": [
    {
     "name": "stdout",
     "output_type": "stream",
     "text": [
      "\n",
      "Phylogenetic tree: as.phylo(tree) \n",
      "\n",
      "  Number of tips: 20 \n",
      "  Number of nodes: 19 \n",
      "  Branch lengths:\n",
      "    mean: 0.2411767 \n",
      "    variance: 0.02331404 \n",
      "    distribution summary:\n",
      "   Min. 1st Qu.  Median 3rd Qu.    Max. \n",
      "0.02895 0.11120 0.19310 0.36650 0.61010 \n",
      "  No root edge.\n",
      "  First ten tip labels: Duration.of.Credit..month. \n",
      "                        Credit.Amount\n",
      "                        Age..years.\n",
      "                        Account.Balance\n",
      "                        Payment.Status.of.Previous.Credit\n",
      "                        Purpose\n",
      "                        Value.Savings.Stocks\n",
      "                        Length.of.current.employment\n",
      "                        Instalment.per.cent\n",
      "                        Sex...Marital.Status\n",
      "  No node labels.\n"
     ]
    }
   ],
   "source": [
    "\n",
    "summary.phylo(as.phylo(tree))"
   ]
  },
  {
   "cell_type": "code",
   "execution_count": 155,
   "metadata": {
    "collapsed": false,
    "scrolled": true
   },
   "outputs": [
    {
     "name": "stdout",
     "output_type": "stream",
     "text": [
      "  First n tip labels: Duration.of.Credit..month. \n",
      "                        Credit.Amount\n",
      "                        Age..years.\n",
      "                        Account.Balance\n",
      "                        Payment.Status.of.Previous.Credit\n",
      "                        Purpose\n",
      "                        Value.Savings.Stocks\n",
      "                        Length.of.current.employment\n",
      "                        Instalment.per.cent\n",
      "                        Sex...Marital.Status\n",
      "                        Guarantors\n",
      "                        Duration.in.Current.address\n",
      "                        Most.valuable.available.asset\n",
      "                        Concurrent.Credits\n",
      "                        Type.of.apartment\n"
     ]
    }
   ],
   "source": [
    "#print n first tip labels\n",
    "n=15\n",
    "\n",
    "cat(\"  First n tip labels:\", as.phylo(tree)$tip.label[1], \"\\n\")\n",
    "cat(paste(\"                       \", as.phylo(tree)$tip.label[2:n]), sep = \"\\n\")\n"
   ]
  },
  {
   "cell_type": "markdown",
   "metadata": {},
   "source": []
  },
  {
   "cell_type": "code",
   "execution_count": 156,
   "metadata": {
    "collapsed": false
   },
   "outputs": [
    {
     "data": {
      "image/png": "[encoded data removed]",
      "text/plain": [
       "Plot with title \"Stability of the partitions\""
      ]
     },
     "metadata": {},
     "output_type": "display_data"
    }
   ],
   "source": [
    "#This graphical representation helps in the determination of a suitable numbers of clusters. \n",
    "#? help(stability)\n",
    "\n",
    "stab<-stability(tree,B=50) # Bootstrap 50 times"
   ]
  },
  {
   "cell_type": "code",
   "execution_count": 157,
   "metadata": {
    "collapsed": false
   },
   "outputs": [
    {
     "data": {
      "image/png": "[encoded data removed]",
      "text/plain": [
       "plot without title"
      ]
     },
     "metadata": {},
     "output_type": "display_data"
    }
   ],
   "source": [
    "boxplot(stab$matCR)"
   ]
  },
  {
   "cell_type": "code",
   "execution_count": 158,
   "metadata": {
    "collapsed": false
   },
   "outputs": [
    {
     "name": "stdout",
     "output_type": "stream",
     "text": [
      "\n",
      "Call:\n",
      "cutreevar(obj = tree, k = 16)\n",
      "\n",
      "\n",
      "\n",
      " name       description                        \n",
      " \"$var\"     \"list of variables in each cluster\"\n",
      " \"$sim\"     \"similarity matrix in each cluster\"\n",
      " \"$cluster\" \"cluster memberships\"              \n",
      " \"$wss\"     \"within-cluster sum of squares\"    \n",
      " \"$E\"       \"gain in cohesion (in %)\"          \n",
      " \"$size\"    \"size of each cluster\"             \n",
      " \"$scores\"  \"score of each cluster\"            \n"
     ]
    }
   ],
   "source": [
    "part<-cutreevar(tree,16)\n",
    "print(part)"
   ]
  },
  {
   "cell_type": "code",
   "execution_count": 159,
   "metadata": {
    "collapsed": false
   },
   "outputs": [
    {
     "name": "stdout",
     "output_type": "stream",
     "text": [
      "\n",
      "Call:\n",
      "cutreevar(obj = tree, k = 16)\n",
      "\n",
      "\n",
      "\n",
      "Data: \n",
      "   number of observations:  1000\n",
      "   number of  variables:  20\n",
      "        number of numerical variables:  3\n",
      "        number of categorical variables:  17\n",
      "   number of clusters:  16\n",
      "\n",
      "Cluster  1 : \n",
      "                           squared loading\n",
      "Duration.of.Credit..month.            0.81\n",
      "Credit.Amount                         0.81\n",
      "\n",
      "\n",
      "Cluster  2 : \n",
      "            squared loading\n",
      "Age..years.               1\n",
      "\n",
      "\n",
      "Cluster  3 : \n",
      "                squared loading\n",
      "Account.Balance               1\n",
      "\n",
      "\n",
      "Cluster  4 : \n",
      "                                  squared loading\n",
      "Payment.Status.of.Previous.Credit            0.82\n",
      "No.of.Credits.at.this.Bank                   0.82\n",
      "\n",
      "\n",
      "Cluster  5 : \n",
      "        squared loading\n",
      "Purpose               1\n",
      "\n",
      "\n",
      "Cluster  6 : \n",
      "                     squared loading\n",
      "Value.Savings.Stocks               1\n",
      "\n",
      "\n",
      "Cluster  7 : \n",
      "                             squared loading\n",
      "Length.of.current.employment            0.76\n",
      "Occupation                              0.76\n",
      "\n",
      "\n",
      "Cluster  8 : \n",
      "                    squared loading\n",
      "Instalment.per.cent               1\n",
      "\n",
      "\n",
      "Cluster  9 : \n",
      "                     squared loading\n",
      "Sex...Marital.Status               1\n",
      "\n",
      "\n",
      "Cluster  10 : \n",
      "           squared loading\n",
      "Guarantors               1\n",
      "\n",
      "\n",
      "Cluster  11 : \n",
      "                            squared loading\n",
      "Duration.in.Current.address               1\n",
      "\n",
      "\n",
      "Cluster  12 : \n",
      "                              squared loading\n",
      "Most.valuable.available.asset            0.89\n",
      "Type.of.apartment                        0.89\n",
      "\n",
      "\n",
      "Cluster  13 : \n",
      "                   squared loading\n",
      "Concurrent.Credits               1\n",
      "\n",
      "\n",
      "Cluster  14 : \n",
      "                 squared loading\n",
      "No.of.dependents               1\n",
      "\n",
      "\n",
      "Cluster  15 : \n",
      "          squared loading\n",
      "Telephone               1\n",
      "\n",
      "\n",
      "Cluster  16 : \n",
      "               squared loading\n",
      "Foreign.Worker               1\n",
      "\n",
      "\n",
      "Gain in cohesion (in %):  91.46\n"
     ]
    }
   ],
   "source": [
    "summary(part)"
   ]
  },
  {
   "cell_type": "code",
   "execution_count": 160,
   "metadata": {
    "collapsed": false,
    "scrolled": true
   },
   "outputs": [
    {
     "name": "stdout",
     "output_type": "stream",
     "text": [
      "  First sixteen tip labels: Duration.of.Credit..month. \n",
      "                        Credit.Amount\n",
      "                        Age..years.\n",
      "                        Account.Balance\n",
      "                        Payment.Status.of.Previous.Credit\n",
      "                        Purpose\n",
      "                        Value.Savings.Stocks\n",
      "                        Length.of.current.employment\n",
      "                        Instalment.per.cent\n",
      "                        Sex...Marital.Status\n",
      "                        Guarantors\n",
      "                        Duration.in.Current.address\n",
      "                        Most.valuable.available.asset\n",
      "                        Concurrent.Credits\n",
      "                        Type.of.apartment\n",
      "                        No.of.Credits.at.this.Bank\n"
     ]
    }
   ],
   "source": [
    "#print n first tip labels\n",
    "n=16 \n",
    "\n",
    "cat(\"  First sixteen tip labels:\", as.phylo(tree)$tip.label[1], \"\\n\")\n",
    "cat(paste(\"                       \", as.phylo(tree)$tip.label[2:n]), sep = \"\\n\")\n"
   ]
  },
  {
   "cell_type": "code",
   "execution_count": 161,
   "metadata": {
    "collapsed": false
   },
   "outputs": [],
   "source": [
    "\n",
    "var_list <-    c(as.phylo(tree)$tip.label[1:n]) #tune n wrt to accuracy"
   ]
  },
  {
   "cell_type": "code",
   "execution_count": 162,
   "metadata": {
    "collapsed": false
   },
   "outputs": [],
   "source": [
    "df_all <- df_all[,c( 'Creditability', var_list)]\n"
   ]
  },
  {
   "cell_type": "code",
   "execution_count": 163,
   "metadata": {
    "collapsed": true
   },
   "outputs": [],
   "source": [
    "catList <- names(df_all)[which(sapply(df_all, is.factor))]\n",
    "\n",
    "countList <- names(df_all)[which(sapply(df_all, is.numeric))]"
   ]
  },
  {
   "cell_type": "code",
   "execution_count": 164,
   "metadata": {
    "collapsed": false
   },
   "outputs": [
    {
     "data": {
      "text/html": [
       "<ol class=list-inline>\n",
       "\t<li>\"Duration.of.Credit..month.\"</li>\n",
       "\t<li>\"Credit.Amount\"</li>\n",
       "\t<li>\"Age..years.\"</li>\n",
       "</ol>\n"
      ],
      "text/latex": [
       "\\begin{enumerate*}\n",
       "\\item \"Duration.of.Credit..month.\"\n",
       "\\item \"Credit.Amount\"\n",
       "\\item \"Age..years.\"\n",
       "\\end{enumerate*}\n"
      ],
      "text/markdown": [
       "1. \"Duration.of.Credit..month.\"\n",
       "2. \"Credit.Amount\"\n",
       "3. \"Age..years.\"\n",
       "\n",
       "\n"
      ],
      "text/plain": [
       "[1] \"Duration.of.Credit..month.\" \"Credit.Amount\"             \n",
       "[3] \"Age..years.\"               "
      ]
     },
     "metadata": {},
     "output_type": "display_data"
    }
   ],
   "source": [
    "countList\n"
   ]
  },
  {
   "cell_type": "code",
   "execution_count": 165,
   "metadata": {
    "collapsed": false
   },
   "outputs": [
    {
     "data": {
      "text/html": [
       "<ol class=list-inline>\n",
       "\t<li>\"Creditability\"</li>\n",
       "\t<li>\"Account.Balance\"</li>\n",
       "\t<li>\"Payment.Status.of.Previous.Credit\"</li>\n",
       "\t<li>\"Purpose\"</li>\n",
       "\t<li>\"Value.Savings.Stocks\"</li>\n",
       "\t<li>\"Length.of.current.employment\"</li>\n",
       "\t<li>\"Instalment.per.cent\"</li>\n",
       "\t<li>\"Sex...Marital.Status\"</li>\n",
       "\t<li>\"Guarantors\"</li>\n",
       "\t<li>\"Duration.in.Current.address\"</li>\n",
       "\t<li>\"Most.valuable.available.asset\"</li>\n",
       "\t<li>\"Concurrent.Credits\"</li>\n",
       "\t<li>\"Type.of.apartment\"</li>\n",
       "\t<li>\"No.of.Credits.at.this.Bank\"</li>\n",
       "</ol>\n"
      ],
      "text/latex": [
       "\\begin{enumerate*}\n",
       "\\item \"Creditability\"\n",
       "\\item \"Account.Balance\"\n",
       "\\item \"Payment.Status.of.Previous.Credit\"\n",
       "\\item \"Purpose\"\n",
       "\\item \"Value.Savings.Stocks\"\n",
       "\\item \"Length.of.current.employment\"\n",
       "\\item \"Instalment.per.cent\"\n",
       "\\item \"Sex...Marital.Status\"\n",
       "\\item \"Guarantors\"\n",
       "\\item \"Duration.in.Current.address\"\n",
       "\\item \"Most.valuable.available.asset\"\n",
       "\\item \"Concurrent.Credits\"\n",
       "\\item \"Type.of.apartment\"\n",
       "\\item \"No.of.Credits.at.this.Bank\"\n",
       "\\end{enumerate*}\n"
      ],
      "text/markdown": [
       "1. \"Creditability\"\n",
       "2. \"Account.Balance\"\n",
       "3. \"Payment.Status.of.Previous.Credit\"\n",
       "4. \"Purpose\"\n",
       "5. \"Value.Savings.Stocks\"\n",
       "6. \"Length.of.current.employment\"\n",
       "7. \"Instalment.per.cent\"\n",
       "8. \"Sex...Marital.Status\"\n",
       "9. \"Guarantors\"\n",
       "10. \"Duration.in.Current.address\"\n",
       "11. \"Most.valuable.available.asset\"\n",
       "12. \"Concurrent.Credits\"\n",
       "13. \"Type.of.apartment\"\n",
       "14. \"No.of.Credits.at.this.Bank\"\n",
       "\n",
       "\n"
      ],
      "text/plain": [
       " [1] \"Creditability\"                     \"Account.Balance\"                  \n",
       " [3] \"Payment.Status.of.Previous.Credit\" \"Purpose\"                          \n",
       " [5] \"Value.Savings.Stocks\"              \"Length.of.current.employment\"     \n",
       " [7] \"Instalment.per.cent\"               \"Sex...Marital.Status\"             \n",
       " [9] \"Guarantors\"                        \"Duration.in.Current.address\"      \n",
       "[11] \"Most.valuable.available.asset\"     \"Concurrent.Credits\"               \n",
       "[13] \"Type.of.apartment\"                 \"No.of.Credits.at.this.Bank\"       "
      ]
     },
     "metadata": {},
     "output_type": "display_data"
    },
    {
     "data": {
      "text/html": [
       "14"
      ],
      "text/latex": [
       "14"
      ],
      "text/markdown": [
       "14"
      ],
      "text/plain": [
       "[1] 14"
      ]
     },
     "metadata": {},
     "output_type": "display_data"
    }
   ],
   "source": [
    "catList\n",
    "length(catList)"
   ]
  },
  {
   "cell_type": "markdown",
   "metadata": {},
   "source": [
    "\n",
    "#### Exploring continuous variables"
   ]
  },
  {
   "cell_type": "code",
   "execution_count": 166,
   "metadata": {
    "collapsed": false,
    "scrolled": true
   },
   "outputs": [
    {
     "data": {
      "text/plain": [
       " Duration.of.Credit..month. Credit.Amount    Age..years.   \n",
       " Min.   : 4.0               Min.   :  250   Min.   :19.00  \n",
       " 1st Qu.:12.0               1st Qu.: 1366   1st Qu.:27.00  \n",
       " Median :18.0               Median : 2320   Median :33.00  \n",
       " Mean   :20.9               Mean   : 3271   Mean   :35.54  \n",
       " 3rd Qu.:24.0               3rd Qu.: 3972   3rd Qu.:42.00  \n",
       " Max.   :72.0               Max.   :18424   Max.   :75.00  "
      ]
     },
     "metadata": {},
     "output_type": "display_data"
    }
   ],
   "source": [
    "\n",
    "summary(df_all[, countList])"
   ]
  },
  {
   "cell_type": "code",
   "execution_count": 167,
   "metadata": {
    "collapsed": false
   },
   "outputs": [],
   "source": [
    "library(e1071) #skewness\n",
    "library(gridExtra)\n",
    "\n",
    "\n",
    "\n",
    "doPlots <- function(data_in, fun, ii, ncol=3) {\n",
    "  pp <- list()\n",
    "  for (i in ii) {\n",
    "    p <- fun(data_in=data_in, i=i)\n",
    "    pp <- c(pp, list(p))\n",
    "  }\n",
    "  do.call(\"grid.arrange\", c(pp, ncol=ncol))\n",
    "}\n",
    "\n",
    "\n",
    "plotDen <- function(data_in, i){\n",
    "  data <- data.frame(x=data_in[[i]], Creditability = data_in$Creditability)\n",
    "  p <- ggplot(data= data) + geom_line(aes(x = x), stat = 'density', size = 1,alpha = 1.0) +\n",
    "    xlab(paste0((colnames(data_in)[i]), '\\n', 'Skewness: ',round(skewness(data_in[[i]], na.rm = TRUE), 2))) + theme_light() \n",
    "  return(p)\n",
    "   \n",
    "}"
   ]
  },
  {
   "cell_type": "code",
   "execution_count": 168,
   "metadata": {
    "collapsed": false,
    "scrolled": false
   },
   "outputs": [
    {
     "data": {
      "image/png": "[encoded data removed]",
      "text/plain": [
       "plot without title"
      ]
     },
     "metadata": {},
     "output_type": "display_data"
    }
   ],
   "source": [
    "doPlots(df_all[, c(countList, 'Creditability')], fun = plotDen, ii = 1:length(countList), ncol = 2)\n",
    "\n",
    "\n"
   ]
  },
  {
   "cell_type": "markdown",
   "metadata": {},
   "source": [
    "Density plots of the features indicates that some of the features are skewed. "
   ]
  },
  {
   "cell_type": "code",
   "execution_count": 169,
   "metadata": {
    "collapsed": false
   },
   "outputs": [
    {
     "data": {
      "text/plain": [
       " Duration.of.Credit..month. Credit.Amount    Age..years.   \n",
       " Min.   : 4.0               Min.   :  250   Min.   :19.00  \n",
       " 1st Qu.:12.0               1st Qu.: 1366   1st Qu.:27.00  \n",
       " Median :18.0               Median : 2320   Median :33.00  \n",
       " Mean   :20.9               Mean   : 3271   Mean   :35.54  \n",
       " 3rd Qu.:24.0               3rd Qu.: 3972   3rd Qu.:42.00  \n",
       " Max.   :72.0               Max.   :18424   Max.   :75.00  "
      ]
     },
     "metadata": {},
     "output_type": "display_data"
    }
   ],
   "source": [
    "summary(df_all[, countList])"
   ]
  },
  {
   "cell_type": "code",
   "execution_count": 170,
   "metadata": {
    "collapsed": false,
    "scrolled": true
   },
   "outputs": [
    {
     "data": {
      "image/png": "[encoded data removed]",
      "text/plain": [
       "Plot with title \" \""
      ]
     },
     "metadata": {},
     "output_type": "display_data"
    },
    {
     "data": {
      "image/png": "[encoded data removed]",
      "text/plain": [
       "Plot with title \" \""
      ]
     },
     "metadata": {},
     "output_type": "display_data"
    },
    {
     "data": {
      "image/png": "[encoded data removed]",
      "text/plain": [
       "Plot with title \" \""
      ]
     },
     "metadata": {},
     "output_type": "display_data"
    }
   ],
   "source": [
    "#HISTOGRAMS\n",
    "\n",
    "\n",
    "brksDf <- seq(0, 72, 7.2)\n",
    "hist(df_all$Duration.of.Credit..month., breaks=brksDf, xlab = \"Duration.of.Credit..month.\", ylab = \"Frequency\", main = \" \", cex=0.4)\n",
    "\n",
    "brksDf <- seq(0, 19000, 1900)\n",
    "hist(df_all$Credit.Amount, breaks=brksDf, xlab = \"Credit.Amount\", ylab = \"Frequency\", main = \" \", cex=0.4)\n",
    "\n",
    "brksDf <- seq(0, 75 , 7.5)\n",
    "hist(df_all$Age..years., breaks=brksDf, xlab = \"Age..years.\", ylab = \"Frequency\", main = \" \", cex=0.4)"
   ]
  },
  {
   "cell_type": "code",
   "execution_count": 171,
   "metadata": {
    "collapsed": true
   },
   "outputs": [],
   "source": [
    "\n",
    "\n",
    "plotDenlog1p <- function(data_in, i){\n",
    "  data <- data.frame(x=log1p(data_in[[i]]), Creditability = data_in$Creditability)\n",
    "  p <- ggplot(data= data) + geom_line(aes(x = x), stat = 'density', size = 1,alpha = 1.0) +\n",
    "    xlab(paste0((colnames(data_in)[i]), '\\n', 'Skewness: ',round(skewness(log1p(data_in[[i]]), na.rm = TRUE), 2))) + theme_light() \n",
    "  return(p)\n",
    "   \n",
    "}"
   ]
  },
  {
   "cell_type": "code",
   "execution_count": 172,
   "metadata": {
    "collapsed": false,
    "scrolled": false
   },
   "outputs": [
    {
     "data": {
      "image/png": "[encoded data removed]",
      "text/plain": [
       "plot without title"
      ]
     },
     "metadata": {},
     "output_type": "display_data"
    }
   ],
   "source": [
    "doPlots(df_all[, c(countList, 'Creditability')], fun = plotDenlog1p, ii = 1:length(countList), ncol = 2)\n"
   ]
  },
  {
   "cell_type": "code",
   "execution_count": 173,
   "metadata": {
    "collapsed": true
   },
   "outputs": [],
   "source": [
    "plotDensqr <- function(data_in, i){\n",
    "  data <- data.frame(x=sqrt(data_in[[i]]), Creditability = data_in$Creditability)\n",
    "  p <- ggplot(data= data) + geom_line(aes(x = x), stat = 'density', size = 1,alpha = 1.0) +\n",
    "    xlab(paste0((colnames(data_in)[i]), '\\n', 'Skewness: ',round(skewness(sqrt(data_in[[i]]), na.rm = TRUE), 2))) + theme_light() \n",
    "  return(p)\n",
    "   \n",
    "}"
   ]
  },
  {
   "cell_type": "code",
   "execution_count": 174,
   "metadata": {
    "collapsed": false,
    "scrolled": true
   },
   "outputs": [
    {
     "data": {
      "image/png": "[encoded data removed]",
      "text/plain": [
       "plot without title"
      ]
     },
     "metadata": {},
     "output_type": "display_data"
    }
   ],
   "source": [
    "\n",
    "\n",
    "doPlots(df_all[, c(countList, 'Creditability')], fun = plotDensqr, ii = 1:length(countList), ncol = 2)\n"
   ]
  },
  {
   "cell_type": "markdown",
   "metadata": {},
   "source": [
    "Therefore taking the logarithm works well for credit.amount, age..years, duration..credithmonts"
   ]
  },
  {
   "cell_type": "code",
   "execution_count": 175,
   "metadata": {
    "collapsed": false
   },
   "outputs": [],
   "source": [
    "df_all$Credit.Amount <- log1p(df_all$Credit.Amount)\n",
    "df_all$Age..years. <- log1p(df_all$Age..years.)\n",
    "df_all$Duration.of.Credit..month. <- log1p(df_all$Duration.of.Credit..month.)"
   ]
  },
  {
   "cell_type": "markdown",
   "metadata": {
    "collapsed": true
   },
   "source": [
    "Plotting numeric features against each other"
   ]
  },
  {
   "cell_type": "code",
   "execution_count": 176,
   "metadata": {
    "collapsed": false
   },
   "outputs": [
    {
     "data": {
      "text/html": [
       "<ol class=list-inline>\n",
       "\t<li>\"Duration.of.Credit..month.\"</li>\n",
       "\t<li>\"Credit.Amount\"</li>\n",
       "\t<li>\"Age..years.\"</li>\n",
       "</ol>\n"
      ],
      "text/latex": [
       "\\begin{enumerate*}\n",
       "\\item \"Duration.of.Credit..month.\"\n",
       "\\item \"Credit.Amount\"\n",
       "\\item \"Age..years.\"\n",
       "\\end{enumerate*}\n"
      ],
      "text/markdown": [
       "1. \"Duration.of.Credit..month.\"\n",
       "2. \"Credit.Amount\"\n",
       "3. \"Age..years.\"\n",
       "\n",
       "\n"
      ],
      "text/plain": [
       "[1] \"Duration.of.Credit..month.\" \"Credit.Amount\"             \n",
       "[3] \"Age..years.\"               "
      ]
     },
     "metadata": {},
     "output_type": "display_data"
    }
   ],
   "source": [
    "countList"
   ]
  },
  {
   "cell_type": "code",
   "execution_count": 177,
   "metadata": {
    "collapsed": false,
    "scrolled": true
   },
   "outputs": [
    {
     "data": {
      "text/html": [
       "9.82146371705754"
      ],
      "text/latex": [
       "9.82146371705754"
      ],
      "text/markdown": [
       "9.82146371705754"
      ],
      "text/plain": [
       "[1] 9.821464"
      ]
     },
     "metadata": {},
     "output_type": "display_data"
    }
   ],
   "source": [
    "max(df_all$Credit.Amount)"
   ]
  },
  {
   "cell_type": "code",
   "execution_count": 178,
   "metadata": {
    "collapsed": false,
    "scrolled": true
   },
   "outputs": [
    {
     "data": {},
     "metadata": {},
     "output_type": "display_data"
    },
    {
     "data": {},
     "metadata": {},
     "output_type": "display_data"
    },
    {
     "data": {
      "image/png": "[encoded data removed]",
      "text/plain": [
       "plot without title"
      ]
     },
     "metadata": {},
     "output_type": "display_data"
    },
    {
     "data": {},
     "metadata": {},
     "output_type": "display_data"
    },
    {
     "data": {
      "image/png": "[encoded data removed]",
      "text/plain": [
       "plot without title"
      ]
     },
     "metadata": {},
     "output_type": "display_data"
    },
    {
     "data": {
      "image/png": "[encoded data removed]",
      "text/plain": [
       "plot without title"
      ]
     },
     "metadata": {},
     "output_type": "display_data"
    }
   ],
   "source": [
    "\n",
    "#Scatter plots\n",
    "\n",
    "ggplot(data=df_all,aes(x = Age..years., y=Credit.Amount))+\n",
    "geom_point(aes(colour=Creditability))+\n",
    "scale_y_continuous(\"Credit.Amount\", breaks = seq(0,max(df_all$Credit.Amount)+ max(df_all$Credit.Amount)/10, max(df_all$Credit.Amount)/5))+\n",
    "scale_x_continuous(\"Age..years.\", breaks = seq(0,max(df_all$Age..years.)+ max(df_all$Age..years.)/10, max(df_all$Age..years.)/5))\n",
    "\n",
    "\n",
    "ggplot(data=df_all,aes(x = Age..years., y=Duration.of.Credit..month.))+\n",
    "geom_point(aes(colour=Creditability))+\n",
    "scale_y_continuous(\"Duration.of.Credit..month.\", breaks = seq(0,max(df_all$Duration.of.Credit..month.)+\n",
    "                                                              max(df_all$Duration.of.Credit..month.)/10, \n",
    "                                                              max(df_all$Duration.of.Credit..month.)/5))\n",
    "\n",
    "\n",
    "\n",
    "\n",
    "\n",
    "ggplot(data=df_all,aes(x = Duration.of.Credit..month., y=Credit.Amount))+\n",
    "geom_point(aes(colour=Creditability))+\n",
    "scale_y_continuous(\"Credit.Amount\", breaks = seq(0,max(df_all$Credit.Amount)+ max(df_all$Credit.Amount)/10, \n",
    "                                               max(df_all$Credit.Amount)/5))+\n",
    "scale_x_continuous(\"Duration.of.Credit..month.\", breaks = seq(0,max(df_all$Duration.of.Credit..month.)+ \n",
    "                                                              max(df_all$Duration.of.Credit..month.)/10, \n",
    "                                                              max(df_all$Duration.of.Credit..month.)/5))"
   ]
  },
  {
   "cell_type": "code",
   "execution_count": 179,
   "metadata": {
    "collapsed": false
   },
   "outputs": [],
   "source": [
    "#among numeric values we examined the one which are correlated\n",
    "\n",
    "library(caret)\n",
    "\n",
    "#set threshold as 0.7\n",
    "ax <-findCorrelation(x = cor(df_all[,countList]), cutoff = 0.7)\n",
    "\n"
   ]
  },
  {
   "cell_type": "code",
   "execution_count": 180,
   "metadata": {
    "collapsed": false
   },
   "outputs": [
    {
     "data": {
      "text/html": [
       "<ol class=list-inline>\n",
       "</ol>\n"
      ],
      "text/latex": [
       "\\begin{enumerate*}\n",
       "\\end{enumerate*}\n"
      ],
      "text/markdown": [
       "\n",
       "\n"
      ],
      "text/plain": [
       "integer(0)"
      ]
     },
     "metadata": {},
     "output_type": "display_data"
    }
   ],
   "source": [
    "ax"
   ]
  },
  {
   "cell_type": "code",
   "execution_count": 181,
   "metadata": {
    "collapsed": false,
    "scrolled": true
   },
   "outputs": [
    {
     "data": {
      "text/html": [
       "\"\""
      ],
      "text/latex": [
       "\"\""
      ],
      "text/markdown": [
       "\"\""
      ],
      "text/plain": [
       "character(0)"
      ]
     },
     "metadata": {},
     "output_type": "display_data"
    }
   ],
   "source": [
    "names(df_all[,countList])[ax] "
   ]
  },
  {
   "cell_type": "markdown",
   "metadata": {
    "collapsed": false
   },
   "source": [
    "No correlation was found among numeric features"
   ]
  },
  {
   "cell_type": "markdown",
   "metadata": {
    "collapsed": false
   },
   "source": [
    "#### Similarly, we can visualize our categorical variables as well."
   ]
  },
  {
   "cell_type": "code",
   "execution_count": 182,
   "metadata": {
    "collapsed": false
   },
   "outputs": [
    {
     "data": {
      "text/html": [
       "<ol class=list-inline>\n",
       "\t<li>\"Creditability\"</li>\n",
       "\t<li>\"Account.Balance\"</li>\n",
       "\t<li>\"Payment.Status.of.Previous.Credit\"</li>\n",
       "\t<li>\"Purpose\"</li>\n",
       "\t<li>\"Value.Savings.Stocks\"</li>\n",
       "\t<li>\"Length.of.current.employment\"</li>\n",
       "\t<li>\"Instalment.per.cent\"</li>\n",
       "\t<li>\"Sex...Marital.Status\"</li>\n",
       "\t<li>\"Guarantors\"</li>\n",
       "\t<li>\"Duration.in.Current.address\"</li>\n",
       "\t<li>\"Most.valuable.available.asset\"</li>\n",
       "\t<li>\"Concurrent.Credits\"</li>\n",
       "\t<li>\"Type.of.apartment\"</li>\n",
       "\t<li>\"No.of.Credits.at.this.Bank\"</li>\n",
       "</ol>\n"
      ],
      "text/latex": [
       "\\begin{enumerate*}\n",
       "\\item \"Creditability\"\n",
       "\\item \"Account.Balance\"\n",
       "\\item \"Payment.Status.of.Previous.Credit\"\n",
       "\\item \"Purpose\"\n",
       "\\item \"Value.Savings.Stocks\"\n",
       "\\item \"Length.of.current.employment\"\n",
       "\\item \"Instalment.per.cent\"\n",
       "\\item \"Sex...Marital.Status\"\n",
       "\\item \"Guarantors\"\n",
       "\\item \"Duration.in.Current.address\"\n",
       "\\item \"Most.valuable.available.asset\"\n",
       "\\item \"Concurrent.Credits\"\n",
       "\\item \"Type.of.apartment\"\n",
       "\\item \"No.of.Credits.at.this.Bank\"\n",
       "\\end{enumerate*}\n"
      ],
      "text/markdown": [
       "1. \"Creditability\"\n",
       "2. \"Account.Balance\"\n",
       "3. \"Payment.Status.of.Previous.Credit\"\n",
       "4. \"Purpose\"\n",
       "5. \"Value.Savings.Stocks\"\n",
       "6. \"Length.of.current.employment\"\n",
       "7. \"Instalment.per.cent\"\n",
       "8. \"Sex...Marital.Status\"\n",
       "9. \"Guarantors\"\n",
       "10. \"Duration.in.Current.address\"\n",
       "11. \"Most.valuable.available.asset\"\n",
       "12. \"Concurrent.Credits\"\n",
       "13. \"Type.of.apartment\"\n",
       "14. \"No.of.Credits.at.this.Bank\"\n",
       "\n",
       "\n"
      ],
      "text/plain": [
       " [1] \"Creditability\"                     \"Account.Balance\"                  \n",
       " [3] \"Payment.Status.of.Previous.Credit\" \"Purpose\"                          \n",
       " [5] \"Value.Savings.Stocks\"              \"Length.of.current.employment\"     \n",
       " [7] \"Instalment.per.cent\"               \"Sex...Marital.Status\"             \n",
       " [9] \"Guarantors\"                        \"Duration.in.Current.address\"      \n",
       "[11] \"Most.valuable.available.asset\"     \"Concurrent.Credits\"               \n",
       "[13] \"Type.of.apartment\"                 \"No.of.Credits.at.this.Bank\"       "
      ]
     },
     "metadata": {},
     "output_type": "display_data"
    }
   ],
   "source": [
    "\n",
    "catList"
   ]
  },
  {
   "cell_type": "code",
   "execution_count": 183,
   "metadata": {
    "collapsed": false
   },
   "outputs": [],
   "source": [
    "#dodged bar chart\n",
    "all_bar <- function(i){\n",
    " \n",
    " #title <- paste(\"count of \", i)\n",
    "    \n",
    " ggplot(df_all,aes(x=i,fill=Creditability))+\n",
    "    geom_bar(position = \"dodge\",  color=\"black\")+\n",
    "    scale_fill_brewer(palette = \"Pastel1\") +\n",
    "    theme(axis.text.x =element_text(angle  = 60,hjust = 1,size=10))#+ \n",
    "    #ggtitle(title) \n",
    "    \n",
    "}"
   ]
  },
  {
   "cell_type": "markdown",
   "metadata": {},
   "source": [
    "Levels which are not so frequent have less chances to appear in the test set, therefore, they should  be merged"
   ]
  },
  {
   "cell_type": "markdown",
   "metadata": {},
   "source": [
    "The values are merged here according to the levels explanation which can be found here  (<a href=\"https://onlinecourses.science.psu.edu/stat857/node/222\">Data Description</a>)"
   ]
  },
  {
   "cell_type": "code",
   "execution_count": 184,
   "metadata": {
    "collapsed": false
   },
   "outputs": [
    {
     "data": {},
     "metadata": {},
     "output_type": "display_data"
    },
    {
     "data": {
      "image/png": "[encoded data removed]",
      "text/plain": [
       "plot without title"
      ]
     },
     "metadata": {},
     "output_type": "display_data"
    }
   ],
   "source": [
    "\n",
    "all_bar(df_all$Account.Balance)"
   ]
  },
  {
   "cell_type": "code",
   "execution_count": 185,
   "metadata": {
    "collapsed": false
   },
   "outputs": [],
   "source": [
    "\n",
    "\n",
    "library(plyr)\n",
    "\n",
    "df_all$Account.Balance <- revalue(df_all$Account.Balance, c(\"3\"= \"4\"))\n"
   ]
  },
  {
   "cell_type": "code",
   "execution_count": 186,
   "metadata": {
    "collapsed": false,
    "scrolled": false
   },
   "outputs": [
    {
     "data": {},
     "metadata": {},
     "output_type": "display_data"
    },
    {
     "data": {
      "image/png": "[encoded data removed]",
      "text/plain": [
       "plot without title"
      ]
     },
     "metadata": {},
     "output_type": "display_data"
    }
   ],
   "source": [
    "all_bar(df_all$Account.Balance)"
   ]
  },
  {
   "cell_type": "code",
   "execution_count": 187,
   "metadata": {
    "collapsed": false
   },
   "outputs": [
    {
     "data": {},
     "metadata": {},
     "output_type": "display_data"
    },
    {
     "data": {
      "image/png": "[encoded data removed]",
      "text/plain": [
       "plot without title"
      ]
     },
     "metadata": {},
     "output_type": "display_data"
    }
   ],
   "source": [
    "\n",
    "\n",
    "all_bar(df_all$Payment.Status.of.Previous.Credit)"
   ]
  },
  {
   "cell_type": "code",
   "execution_count": 188,
   "metadata": {
    "collapsed": false
   },
   "outputs": [],
   "source": [
    "\n",
    "\n",
    "df_all$Payment.Status.of.Previous.Credit<- revalue(df_all$Payment.Status.of.Previous.Credit, c(\"0\"= \"2\"))\n",
    "\n",
    "df_all$Payment.Status.of.Previous.Credit<- revalue(df_all$Payment.Status.of.Previous.Credit, c(\"1\"= \"2\"))\n",
    "\n",
    "df_all$Payment.Status.of.Previous.Credit<- revalue(df_all$Payment.Status.of.Previous.Credit, c(\"3\"= \"4\"))\n"
   ]
  },
  {
   "cell_type": "code",
   "execution_count": 189,
   "metadata": {
    "collapsed": false
   },
   "outputs": [
    {
     "data": {},
     "metadata": {},
     "output_type": "display_data"
    },
    {
     "data": {
      "image/png": "[encoded data removed]",
      "text/plain": [
       "plot without title"
      ]
     },
     "metadata": {},
     "output_type": "display_data"
    }
   ],
   "source": [
    "\n",
    "all_bar(df_all$Payment.Status.of.Previous.Credit)"
   ]
  },
  {
   "cell_type": "code",
   "execution_count": 190,
   "metadata": {
    "collapsed": false,
    "scrolled": true
   },
   "outputs": [
    {
     "data": {
      "text/html": [
       "<dl class=dl-horizontal>\n",
       "\t<dt>2</dt>\n",
       "\t\t<dd>619</dd>\n",
       "\t<dt>4</dt>\n",
       "\t\t<dd>381</dd>\n",
       "</dl>\n"
      ],
      "text/latex": [
       "\\begin{description*}\n",
       "\\item[2] 619\n",
       "\\item[4] 381\n",
       "\\end{description*}\n"
      ],
      "text/markdown": [
       "2\n",
       ":   6194\n",
       ":   381\n",
       "\n"
      ],
      "text/plain": [
       "  2   4 \n",
       "619 381 "
      ]
     },
     "metadata": {},
     "output_type": "display_data"
    }
   ],
   "source": [
    "summary(df_all$Payment.Status.of.Previous.Credit)"
   ]
  },
  {
   "cell_type": "code",
   "execution_count": 191,
   "metadata": {
    "collapsed": false,
    "scrolled": true
   },
   "outputs": [
    {
     "data": {},
     "metadata": {},
     "output_type": "display_data"
    },
    {
     "data": {
      "image/png": "[encoded data removed]",
      "text/plain": [
       "plot without title"
      ]
     },
     "metadata": {},
     "output_type": "display_data"
    }
   ],
   "source": [
    "all_bar(df_all$Purpose)"
   ]
  },
  {
   "cell_type": "code",
   "execution_count": 192,
   "metadata": {
    "collapsed": false
   },
   "outputs": [],
   "source": [
    "\n",
    "\n",
    "\n",
    "df_all$Purpose<- revalue(df_all$Purpose, c(\"4\"= \"11\"))\n",
    "\n",
    "df_all$Purpose<- revalue(df_all$Purpose, c(\"5\"= \"11\"))\n",
    "\n",
    "\n",
    "df_all$Purpose<- revalue(df_all$Purpose, c(\"6\"= \"11\"))\n",
    "\n",
    "#df_all$Purpose<- revalue(df_all$Purpose, c(\"7\"= \"11\"))\n",
    "\n",
    "\n",
    "df_all$Purpose<- revalue(df_all$Purpose, c(\"8\"= \"11\"))\n"
   ]
  },
  {
   "cell_type": "code",
   "execution_count": 193,
   "metadata": {
    "collapsed": false
   },
   "outputs": [
    {
     "data": {},
     "metadata": {},
     "output_type": "display_data"
    },
    {
     "data": {
      "image/png": "[encoded data removed]",
      "text/plain": [
       "plot without title"
      ]
     },
     "metadata": {},
     "output_type": "display_data"
    }
   ],
   "source": [
    "all_bar(df_all$Purpose)"
   ]
  },
  {
   "cell_type": "code",
   "execution_count": 194,
   "metadata": {
    "collapsed": false,
    "scrolled": false
   },
   "outputs": [
    {
     "data": {},
     "metadata": {},
     "output_type": "display_data"
    },
    {
     "data": {
      "image/png": "[encoded data removed]",
      "text/plain": [
       "plot without title"
      ]
     },
     "metadata": {},
     "output_type": "display_data"
    }
   ],
   "source": [
    "all_bar(df_all$Value.Savings.Stocks)"
   ]
  },
  {
   "cell_type": "code",
   "execution_count": 195,
   "metadata": {
    "collapsed": true
   },
   "outputs": [],
   "source": [
    "df_all$Value.Savings.Stocks<- revalue(df_all$Value.Savings.Stocks, c(\"2\"= \"3\"))\n",
    "\n",
    "                                    \n",
    "                                       \n",
    "df_all$Value.Savings.Stocks<- revalue(df_all$Value.Savings.Stocks, c(\"4\"= \"3\"))\n",
    "\n"
   ]
  },
  {
   "cell_type": "code",
   "execution_count": 196,
   "metadata": {
    "collapsed": false
   },
   "outputs": [
    {
     "data": {},
     "metadata": {},
     "output_type": "display_data"
    },
    {
     "data": {
      "image/png": "[encoded data removed]",
      "text/plain": [
       "plot without title"
      ]
     },
     "metadata": {},
     "output_type": "display_data"
    }
   ],
   "source": [
    "all_bar(df_all$Value.Savings.Stocks)"
   ]
  },
  {
   "cell_type": "code",
   "execution_count": 197,
   "metadata": {
    "collapsed": false
   },
   "outputs": [
    {
     "data": {
      "text/html": [
       "<dl class=dl-horizontal>\n",
       "\t<dt>1</dt>\n",
       "\t\t<dd>603</dd>\n",
       "\t<dt>3</dt>\n",
       "\t\t<dd>214</dd>\n",
       "\t<dt>5</dt>\n",
       "\t\t<dd>183</dd>\n",
       "</dl>\n"
      ],
      "text/latex": [
       "\\begin{description*}\n",
       "\\item[1] 603\n",
       "\\item[3] 214\n",
       "\\item[5] 183\n",
       "\\end{description*}\n"
      ],
      "text/markdown": [
       "1\n",
       ":   6033\n",
       ":   2145\n",
       ":   183\n",
       "\n"
      ],
      "text/plain": [
       "  1   3   5 \n",
       "603 214 183 "
      ]
     },
     "metadata": {},
     "output_type": "display_data"
    }
   ],
   "source": [
    "summary(df_all$Value.Savings.Stocks)"
   ]
  },
  {
   "cell_type": "code",
   "execution_count": 198,
   "metadata": {
    "collapsed": false
   },
   "outputs": [
    {
     "data": {
      "text/html": [
       "<ol class=list-inline>\n",
       "\t<li>\"Creditability\"</li>\n",
       "\t<li>\"Account.Balance\"</li>\n",
       "\t<li>\"Payment.Status.of.Previous.Credit\"</li>\n",
       "\t<li>\"Purpose\"</li>\n",
       "\t<li>\"Value.Savings.Stocks\"</li>\n",
       "\t<li>\"Length.of.current.employment\"</li>\n",
       "\t<li>\"Instalment.per.cent\"</li>\n",
       "\t<li>\"Sex...Marital.Status\"</li>\n",
       "\t<li>\"Guarantors\"</li>\n",
       "\t<li>\"Duration.in.Current.address\"</li>\n",
       "\t<li>\"Most.valuable.available.asset\"</li>\n",
       "\t<li>\"Concurrent.Credits\"</li>\n",
       "\t<li>\"Type.of.apartment\"</li>\n",
       "\t<li>\"No.of.Credits.at.this.Bank\"</li>\n",
       "</ol>\n"
      ],
      "text/latex": [
       "\\begin{enumerate*}\n",
       "\\item \"Creditability\"\n",
       "\\item \"Account.Balance\"\n",
       "\\item \"Payment.Status.of.Previous.Credit\"\n",
       "\\item \"Purpose\"\n",
       "\\item \"Value.Savings.Stocks\"\n",
       "\\item \"Length.of.current.employment\"\n",
       "\\item \"Instalment.per.cent\"\n",
       "\\item \"Sex...Marital.Status\"\n",
       "\\item \"Guarantors\"\n",
       "\\item \"Duration.in.Current.address\"\n",
       "\\item \"Most.valuable.available.asset\"\n",
       "\\item \"Concurrent.Credits\"\n",
       "\\item \"Type.of.apartment\"\n",
       "\\item \"No.of.Credits.at.this.Bank\"\n",
       "\\end{enumerate*}\n"
      ],
      "text/markdown": [
       "1. \"Creditability\"\n",
       "2. \"Account.Balance\"\n",
       "3. \"Payment.Status.of.Previous.Credit\"\n",
       "4. \"Purpose\"\n",
       "5. \"Value.Savings.Stocks\"\n",
       "6. \"Length.of.current.employment\"\n",
       "7. \"Instalment.per.cent\"\n",
       "8. \"Sex...Marital.Status\"\n",
       "9. \"Guarantors\"\n",
       "10. \"Duration.in.Current.address\"\n",
       "11. \"Most.valuable.available.asset\"\n",
       "12. \"Concurrent.Credits\"\n",
       "13. \"Type.of.apartment\"\n",
       "14. \"No.of.Credits.at.this.Bank\"\n",
       "\n",
       "\n"
      ],
      "text/plain": [
       " [1] \"Creditability\"                     \"Account.Balance\"                  \n",
       " [3] \"Payment.Status.of.Previous.Credit\" \"Purpose\"                          \n",
       " [5] \"Value.Savings.Stocks\"              \"Length.of.current.employment\"     \n",
       " [7] \"Instalment.per.cent\"               \"Sex...Marital.Status\"             \n",
       " [9] \"Guarantors\"                        \"Duration.in.Current.address\"      \n",
       "[11] \"Most.valuable.available.asset\"     \"Concurrent.Credits\"               \n",
       "[13] \"Type.of.apartment\"                 \"No.of.Credits.at.this.Bank\"       "
      ]
     },
     "metadata": {},
     "output_type": "display_data"
    }
   ],
   "source": [
    "catList"
   ]
  },
  {
   "cell_type": "code",
   "execution_count": 199,
   "metadata": {
    "collapsed": false,
    "scrolled": false
   },
   "outputs": [
    {
     "data": {},
     "metadata": {},
     "output_type": "display_data"
    },
    {
     "data": {
      "image/png": "[encoded data removed]",
      "text/plain": [
       "plot without title"
      ]
     },
     "metadata": {},
     "output_type": "display_data"
    }
   ],
   "source": [
    "\n",
    "all_bar(df_all$Length.of.current.employment)"
   ]
  },
  {
   "cell_type": "code",
   "execution_count": 200,
   "metadata": {
    "collapsed": false
   },
   "outputs": [
    {
     "data": {},
     "metadata": {},
     "output_type": "display_data"
    },
    {
     "data": {
      "image/png": "[encoded data removed]",
      "text/plain": [
       "plot without title"
      ]
     },
     "metadata": {},
     "output_type": "display_data"
    }
   ],
   "source": [
    "\n",
    "all_bar(df_all$Instalment.per.cent)"
   ]
  },
  {
   "cell_type": "code",
   "execution_count": 201,
   "metadata": {
    "collapsed": false
   },
   "outputs": [
    {
     "data": {},
     "metadata": {},
     "output_type": "display_data"
    },
    {
     "data": {
      "image/png": "[encoded data removed]",
      "text/plain": [
       "plot without title"
      ]
     },
     "metadata": {},
     "output_type": "display_data"
    }
   ],
   "source": [
    "\n",
    "all_bar(df_all$Sex...Marital.Status)"
   ]
  },
  {
   "cell_type": "code",
   "execution_count": 202,
   "metadata": {
    "collapsed": true
   },
   "outputs": [],
   "source": [
    "df_all$Sex...Marital.Status <- revalue(df_all$Sex...Marital.Status, c(\"1\"= \"2\"))\n"
   ]
  },
  {
   "cell_type": "code",
   "execution_count": 203,
   "metadata": {
    "collapsed": false
   },
   "outputs": [
    {
     "data": {},
     "metadata": {},
     "output_type": "display_data"
    },
    {
     "data": {
      "image/png": "[encoded data removed]",
      "text/plain": [
       "plot without title"
      ]
     },
     "metadata": {},
     "output_type": "display_data"
    }
   ],
   "source": [
    "all_bar(df_all$Sex...Marital.Status)"
   ]
  },
  {
   "cell_type": "code",
   "execution_count": 204,
   "metadata": {
    "collapsed": false
   },
   "outputs": [
    {
     "data": {},
     "metadata": {},
     "output_type": "display_data"
    },
    {
     "data": {
      "image/png": "[encoded data removed]",
      "text/plain": [
       "plot without title"
      ]
     },
     "metadata": {},
     "output_type": "display_data"
    }
   ],
   "source": [
    "all_bar(df_all$Guarantors)"
   ]
  },
  {
   "cell_type": "code",
   "execution_count": 205,
   "metadata": {
    "collapsed": true
   },
   "outputs": [],
   "source": [
    "df_all$Guarantors <- revalue(df_all$Guarantors, c(\"2\"= \"3\"))\n"
   ]
  },
  {
   "cell_type": "code",
   "execution_count": 206,
   "metadata": {
    "collapsed": false
   },
   "outputs": [
    {
     "data": {},
     "metadata": {},
     "output_type": "display_data"
    },
    {
     "data": {
      "image/png": "[encoded data removed]",
      "text/plain": [
       "plot without title"
      ]
     },
     "metadata": {},
     "output_type": "display_data"
    }
   ],
   "source": [
    "all_bar(df_all$Guarantors)"
   ]
  },
  {
   "cell_type": "code",
   "execution_count": 207,
   "metadata": {
    "collapsed": false
   },
   "outputs": [
    {
     "data": {
      "text/html": [
       "<ol class=list-inline>\n",
       "\t<li>\"Creditability\"</li>\n",
       "\t<li>\"Account.Balance\"</li>\n",
       "\t<li>\"Payment.Status.of.Previous.Credit\"</li>\n",
       "\t<li>\"Purpose\"</li>\n",
       "\t<li>\"Value.Savings.Stocks\"</li>\n",
       "\t<li>\"Length.of.current.employment\"</li>\n",
       "\t<li>\"Instalment.per.cent\"</li>\n",
       "\t<li>\"Sex...Marital.Status\"</li>\n",
       "\t<li>\"Guarantors\"</li>\n",
       "\t<li>\"Duration.in.Current.address\"</li>\n",
       "\t<li>\"Most.valuable.available.asset\"</li>\n",
       "\t<li>\"Concurrent.Credits\"</li>\n",
       "\t<li>\"Type.of.apartment\"</li>\n",
       "\t<li>\"No.of.Credits.at.this.Bank\"</li>\n",
       "</ol>\n"
      ],
      "text/latex": [
       "\\begin{enumerate*}\n",
       "\\item \"Creditability\"\n",
       "\\item \"Account.Balance\"\n",
       "\\item \"Payment.Status.of.Previous.Credit\"\n",
       "\\item \"Purpose\"\n",
       "\\item \"Value.Savings.Stocks\"\n",
       "\\item \"Length.of.current.employment\"\n",
       "\\item \"Instalment.per.cent\"\n",
       "\\item \"Sex...Marital.Status\"\n",
       "\\item \"Guarantors\"\n",
       "\\item \"Duration.in.Current.address\"\n",
       "\\item \"Most.valuable.available.asset\"\n",
       "\\item \"Concurrent.Credits\"\n",
       "\\item \"Type.of.apartment\"\n",
       "\\item \"No.of.Credits.at.this.Bank\"\n",
       "\\end{enumerate*}\n"
      ],
      "text/markdown": [
       "1. \"Creditability\"\n",
       "2. \"Account.Balance\"\n",
       "3. \"Payment.Status.of.Previous.Credit\"\n",
       "4. \"Purpose\"\n",
       "5. \"Value.Savings.Stocks\"\n",
       "6. \"Length.of.current.employment\"\n",
       "7. \"Instalment.per.cent\"\n",
       "8. \"Sex...Marital.Status\"\n",
       "9. \"Guarantors\"\n",
       "10. \"Duration.in.Current.address\"\n",
       "11. \"Most.valuable.available.asset\"\n",
       "12. \"Concurrent.Credits\"\n",
       "13. \"Type.of.apartment\"\n",
       "14. \"No.of.Credits.at.this.Bank\"\n",
       "\n",
       "\n"
      ],
      "text/plain": [
       " [1] \"Creditability\"                     \"Account.Balance\"                  \n",
       " [3] \"Payment.Status.of.Previous.Credit\" \"Purpose\"                          \n",
       " [5] \"Value.Savings.Stocks\"              \"Length.of.current.employment\"     \n",
       " [7] \"Instalment.per.cent\"               \"Sex...Marital.Status\"             \n",
       " [9] \"Guarantors\"                        \"Duration.in.Current.address\"      \n",
       "[11] \"Most.valuable.available.asset\"     \"Concurrent.Credits\"               \n",
       "[13] \"Type.of.apartment\"                 \"No.of.Credits.at.this.Bank\"       "
      ]
     },
     "metadata": {},
     "output_type": "display_data"
    }
   ],
   "source": [
    "catList"
   ]
  },
  {
   "cell_type": "code",
   "execution_count": 208,
   "metadata": {
    "collapsed": false
   },
   "outputs": [
    {
     "data": {},
     "metadata": {},
     "output_type": "display_data"
    },
    {
     "data": {
      "image/png": "[encoded data removed]",
      "text/plain": [
       "plot without title"
      ]
     },
     "metadata": {},
     "output_type": "display_data"
    }
   ],
   "source": [
    "all_bar(df_all$Duration.in.Current.address)"
   ]
  },
  {
   "cell_type": "code",
   "execution_count": 209,
   "metadata": {
    "collapsed": false
   },
   "outputs": [
    {
     "data": {},
     "metadata": {},
     "output_type": "display_data"
    },
    {
     "data": {
      "image/png": "[encoded data removed]",
      "text/plain": [
       "plot without title"
      ]
     },
     "metadata": {},
     "output_type": "display_data"
    }
   ],
   "source": [
    "all_bar(df_all$Most.valuable.available.asset)"
   ]
  },
  {
   "cell_type": "code",
   "execution_count": 210,
   "metadata": {
    "collapsed": false
   },
   "outputs": [
    {
     "data": {},
     "metadata": {},
     "output_type": "display_data"
    },
    {
     "data": {
      "image/png": "[encoded data removed]",
      "text/plain": [
       "plot without title"
      ]
     },
     "metadata": {},
     "output_type": "display_data"
    }
   ],
   "source": [
    "all_bar(df_all$Concurrent.Credits)"
   ]
  },
  {
   "cell_type": "code",
   "execution_count": 211,
   "metadata": {
    "collapsed": false
   },
   "outputs": [],
   "source": [
    "df_all$Concurrent.Credits <- revalue(df_all$Concurrent.Credits, c(\"2\"= \"1\"))\n"
   ]
  },
  {
   "cell_type": "code",
   "execution_count": 212,
   "metadata": {
    "collapsed": false
   },
   "outputs": [
    {
     "data": {},
     "metadata": {},
     "output_type": "display_data"
    },
    {
     "data": {
      "image/png": "[encoded data removed]",
      "text/plain": [
       "plot without title"
      ]
     },
     "metadata": {},
     "output_type": "display_data"
    }
   ],
   "source": [
    "all_bar(df_all$Concurrent.Credits)\n"
   ]
  },
  {
   "cell_type": "code",
   "execution_count": 213,
   "metadata": {
    "collapsed": false
   },
   "outputs": [
    {
     "data": {},
     "metadata": {},
     "output_type": "display_data"
    },
    {
     "data": {
      "image/png": "[encoded data removed]",
      "text/plain": [
       "plot without title"
      ]
     },
     "metadata": {},
     "output_type": "display_data"
    }
   ],
   "source": [
    "all_bar(df_all$Type.of.apartment)"
   ]
  },
  {
   "cell_type": "code",
   "execution_count": 214,
   "metadata": {
    "collapsed": false
   },
   "outputs": [
    {
     "data": {},
     "metadata": {},
     "output_type": "display_data"
    },
    {
     "data": {
      "image/png": "[encoded data removed]",
      "text/plain": [
       "plot without title"
      ]
     },
     "metadata": {},
     "output_type": "display_data"
    }
   ],
   "source": [
    "all_bar(df_all$No.of.Credits.at.this.Bank)"
   ]
  },
  {
   "cell_type": "code",
   "execution_count": 215,
   "metadata": {
    "collapsed": false
   },
   "outputs": [],
   "source": [
    "df_all$No.of.Credits.at.this.Bank <- revalue(df_all$No.of.Credits.at.this.Bank, c(\"3\"= \"4\"))\n",
    "\n",
    "\n",
    "df_all$No.of.Credits.at.this.Bank <- revalue(df_all$No.of.Credits.at.this.Bank, c(\"2\"= \"4\"))\n"
   ]
  },
  {
   "cell_type": "code",
   "execution_count": 216,
   "metadata": {
    "collapsed": false,
    "scrolled": false
   },
   "outputs": [
    {
     "data": {},
     "metadata": {},
     "output_type": "display_data"
    },
    {
     "data": {
      "image/png": "[encoded data removed]",
      "text/plain": [
       "plot without title"
      ]
     },
     "metadata": {},
     "output_type": "display_data"
    }
   ],
   "source": [
    "all_bar(df_all$No.of.Credits.at.this.Bank)"
   ]
  },
  {
   "cell_type": "code",
   "execution_count": 217,
   "metadata": {
    "collapsed": false
   },
   "outputs": [
    {
     "data": {
      "text/html": [
       "<ol class=list-inline>\n",
       "\t<li>\"Creditability\"</li>\n",
       "\t<li>\"Account.Balance\"</li>\n",
       "\t<li>\"Payment.Status.of.Previous.Credit\"</li>\n",
       "\t<li>\"Purpose\"</li>\n",
       "\t<li>\"Value.Savings.Stocks\"</li>\n",
       "\t<li>\"Length.of.current.employment\"</li>\n",
       "\t<li>\"Instalment.per.cent\"</li>\n",
       "\t<li>\"Sex...Marital.Status\"</li>\n",
       "\t<li>\"Guarantors\"</li>\n",
       "\t<li>\"Duration.in.Current.address\"</li>\n",
       "\t<li>\"Most.valuable.available.asset\"</li>\n",
       "\t<li>\"Concurrent.Credits\"</li>\n",
       "\t<li>\"Type.of.apartment\"</li>\n",
       "\t<li>\"No.of.Credits.at.this.Bank\"</li>\n",
       "</ol>\n"
      ],
      "text/latex": [
       "\\begin{enumerate*}\n",
       "\\item \"Creditability\"\n",
       "\\item \"Account.Balance\"\n",
       "\\item \"Payment.Status.of.Previous.Credit\"\n",
       "\\item \"Purpose\"\n",
       "\\item \"Value.Savings.Stocks\"\n",
       "\\item \"Length.of.current.employment\"\n",
       "\\item \"Instalment.per.cent\"\n",
       "\\item \"Sex...Marital.Status\"\n",
       "\\item \"Guarantors\"\n",
       "\\item \"Duration.in.Current.address\"\n",
       "\\item \"Most.valuable.available.asset\"\n",
       "\\item \"Concurrent.Credits\"\n",
       "\\item \"Type.of.apartment\"\n",
       "\\item \"No.of.Credits.at.this.Bank\"\n",
       "\\end{enumerate*}\n"
      ],
      "text/markdown": [
       "1. \"Creditability\"\n",
       "2. \"Account.Balance\"\n",
       "3. \"Payment.Status.of.Previous.Credit\"\n",
       "4. \"Purpose\"\n",
       "5. \"Value.Savings.Stocks\"\n",
       "6. \"Length.of.current.employment\"\n",
       "7. \"Instalment.per.cent\"\n",
       "8. \"Sex...Marital.Status\"\n",
       "9. \"Guarantors\"\n",
       "10. \"Duration.in.Current.address\"\n",
       "11. \"Most.valuable.available.asset\"\n",
       "12. \"Concurrent.Credits\"\n",
       "13. \"Type.of.apartment\"\n",
       "14. \"No.of.Credits.at.this.Bank\"\n",
       "\n",
       "\n"
      ],
      "text/plain": [
       " [1] \"Creditability\"                     \"Account.Balance\"                  \n",
       " [3] \"Payment.Status.of.Previous.Credit\" \"Purpose\"                          \n",
       " [5] \"Value.Savings.Stocks\"              \"Length.of.current.employment\"     \n",
       " [7] \"Instalment.per.cent\"               \"Sex...Marital.Status\"             \n",
       " [9] \"Guarantors\"                        \"Duration.in.Current.address\"      \n",
       "[11] \"Most.valuable.available.asset\"     \"Concurrent.Credits\"               \n",
       "[13] \"Type.of.apartment\"                 \"No.of.Credits.at.this.Bank\"       "
      ]
     },
     "metadata": {},
     "output_type": "display_data"
    }
   ],
   "source": [
    "catList"
   ]
  },
  {
   "cell_type": "code",
   "execution_count": 218,
   "metadata": {
    "collapsed": false
   },
   "outputs": [
    {
     "name": "stdout",
     "output_type": "stream",
     "text": [
      "'data.frame':\t1000 obs. of  17 variables:\n",
      " $ Creditability                    : Factor w/ 2 levels \"0\",\"1\": 2 2 2 2 2 2 2 2 2 2 ...\n",
      " $ Duration.of.Credit..month.       : num  2.94 2.3 2.56 2.56 2.56 ...\n",
      " $ Credit.Amount                    : num  6.96 7.94 6.74 7.66 7.68 ...\n",
      " $ Age..years.                      : num  3.09 3.61 3.18 3.69 3.66 ...\n",
      " $ Account.Balance                  : Factor w/ 3 levels \"1\",\"2\",\"4\": 1 1 2 1 1 1 1 1 3 2 ...\n",
      " $ Payment.Status.of.Previous.Credit: Factor w/ 2 levels \"2\",\"4\": 2 2 1 2 2 2 2 2 2 1 ...\n",
      " $ Purpose                          : Factor w/ 7 levels \"0\",\"1\",\"10\",\"2\",..: 4 1 7 1 1 1 1 1 5 5 ...\n",
      " $ Value.Savings.Stocks             : Factor w/ 3 levels \"1\",\"3\",\"5\": 1 1 2 1 1 1 1 1 1 2 ...\n",
      " $ Length.of.current.employment     : Factor w/ 5 levels \"1\",\"2\",\"3\",\"4\",..: 2 3 4 3 3 2 4 2 1 1 ...\n",
      " $ Instalment.per.cent              : Factor w/ 4 levels \"1\",\"2\",\"3\",\"4\": 4 2 2 3 4 1 1 2 4 1 ...\n",
      " $ Sex...Marital.Status             : Factor w/ 3 levels \"2\",\"3\",\"4\": 1 2 1 2 2 2 2 2 1 1 ...\n",
      " $ Guarantors                       : Factor w/ 2 levels \"1\",\"3\": 1 1 1 1 1 1 1 1 1 1 ...\n",
      " $ Duration.in.Current.address      : Factor w/ 4 levels \"1\",\"2\",\"3\",\"4\": 4 2 4 2 4 3 4 4 4 4 ...\n",
      " $ Most.valuable.available.asset    : Factor w/ 4 levels \"1\",\"2\",\"3\",\"4\": 2 1 1 1 2 1 1 1 3 4 ...\n",
      " $ Concurrent.Credits               : Factor w/ 2 levels \"1\",\"3\": 2 2 2 2 1 2 2 2 2 2 ...\n",
      " $ Type.of.apartment                : Factor w/ 3 levels \"1\",\"2\",\"3\": 1 1 1 1 2 1 2 2 2 1 ...\n",
      " $ No.of.Credits.at.this.Bank       : Factor w/ 2 levels \"1\",\"4\": 1 2 1 2 2 2 2 1 2 1 ...\n"
     ]
    }
   ],
   "source": [
    "str(df_all)"
   ]
  },
  {
   "cell_type": "code",
   "execution_count": 219,
   "metadata": {
    "collapsed": false
   },
   "outputs": [
    {
     "data": {
      "text/plain": [
       "\n",
       "  0   1 \n",
       "0.3 0.7 "
      ]
     },
     "metadata": {},
     "output_type": "display_data"
    }
   ],
   "source": [
    "prop.table(table(df_all$Creditability))\n",
    "\n"
   ]
  },
  {
   "cell_type": "code",
   "execution_count": 220,
   "metadata": {
    "collapsed": false
   },
   "outputs": [
    {
     "data": {
      "text/html": [
       "<ol class=list-inline>\n",
       "\t<li>\"Creditability\"</li>\n",
       "\t<li>\"Account.Balance\"</li>\n",
       "\t<li>\"Payment.Status.of.Previous.Credit\"</li>\n",
       "\t<li>\"Purpose\"</li>\n",
       "\t<li>\"Value.Savings.Stocks\"</li>\n",
       "\t<li>\"Length.of.current.employment\"</li>\n",
       "\t<li>\"Instalment.per.cent\"</li>\n",
       "\t<li>\"Sex...Marital.Status\"</li>\n",
       "\t<li>\"Guarantors\"</li>\n",
       "\t<li>\"Duration.in.Current.address\"</li>\n",
       "\t<li>\"Most.valuable.available.asset\"</li>\n",
       "\t<li>\"Concurrent.Credits\"</li>\n",
       "\t<li>\"Type.of.apartment\"</li>\n",
       "\t<li>\"No.of.Credits.at.this.Bank\"</li>\n",
       "</ol>\n"
      ],
      "text/latex": [
       "\\begin{enumerate*}\n",
       "\\item \"Creditability\"\n",
       "\\item \"Account.Balance\"\n",
       "\\item \"Payment.Status.of.Previous.Credit\"\n",
       "\\item \"Purpose\"\n",
       "\\item \"Value.Savings.Stocks\"\n",
       "\\item \"Length.of.current.employment\"\n",
       "\\item \"Instalment.per.cent\"\n",
       "\\item \"Sex...Marital.Status\"\n",
       "\\item \"Guarantors\"\n",
       "\\item \"Duration.in.Current.address\"\n",
       "\\item \"Most.valuable.available.asset\"\n",
       "\\item \"Concurrent.Credits\"\n",
       "\\item \"Type.of.apartment\"\n",
       "\\item \"No.of.Credits.at.this.Bank\"\n",
       "\\end{enumerate*}\n"
      ],
      "text/markdown": [
       "1. \"Creditability\"\n",
       "2. \"Account.Balance\"\n",
       "3. \"Payment.Status.of.Previous.Credit\"\n",
       "4. \"Purpose\"\n",
       "5. \"Value.Savings.Stocks\"\n",
       "6. \"Length.of.current.employment\"\n",
       "7. \"Instalment.per.cent\"\n",
       "8. \"Sex...Marital.Status\"\n",
       "9. \"Guarantors\"\n",
       "10. \"Duration.in.Current.address\"\n",
       "11. \"Most.valuable.available.asset\"\n",
       "12. \"Concurrent.Credits\"\n",
       "13. \"Type.of.apartment\"\n",
       "14. \"No.of.Credits.at.this.Bank\"\n",
       "\n",
       "\n"
      ],
      "text/plain": [
       " [1] \"Creditability\"                     \"Account.Balance\"                  \n",
       " [3] \"Payment.Status.of.Previous.Credit\" \"Purpose\"                          \n",
       " [5] \"Value.Savings.Stocks\"              \"Length.of.current.employment\"     \n",
       " [7] \"Instalment.per.cent\"               \"Sex...Marital.Status\"             \n",
       " [9] \"Guarantors\"                        \"Duration.in.Current.address\"      \n",
       "[11] \"Most.valuable.available.asset\"     \"Concurrent.Credits\"               \n",
       "[13] \"Type.of.apartment\"                 \"No.of.Credits.at.this.Bank\"       "
      ]
     },
     "metadata": {},
     "output_type": "display_data"
    }
   ],
   "source": [
    "catList"
   ]
  },
  {
   "cell_type": "code",
   "execution_count": 221,
   "metadata": {
    "collapsed": false
   },
   "outputs": [
    {
     "data": {
      "text/html": [
       "<dl class=dl-horizontal>\n",
       "\t<dt>Account.Balance</dt>\n",
       "\t\t<dd>0.000499750124937531</dd>\n",
       "\t<dt>Payment.Status.of.Previous.Credit</dt>\n",
       "\t\t<dd>0.000499750124937531</dd>\n",
       "\t<dt>Purpose</dt>\n",
       "\t\t<dd>0.000499750124937531</dd>\n",
       "\t<dt>Value.Savings.Stocks</dt>\n",
       "\t\t<dd>0.000499750124937531</dd>\n",
       "\t<dt>Most.valuable.available.asset</dt>\n",
       "\t\t<dd>0.000499750124937531</dd>\n",
       "\t<dt>Concurrent.Credits</dt>\n",
       "\t\t<dd>0.000499750124937531</dd>\n",
       "\t<dt>Type.of.apartment</dt>\n",
       "\t\t<dd>0.000499750124937531</dd>\n",
       "\t<dt>Length.of.current.employment</dt>\n",
       "\t\t<dd>0.000999500249875062</dd>\n",
       "\t<dt>Sex...Marital.Status</dt>\n",
       "\t\t<dd>0.0109945027486257</dd>\n",
       "\t<dt>Instalment.per.cent</dt>\n",
       "\t\t<dd>0.138930534732634</dd>\n",
       "\t<dt>No.of.Credits.at.this.Bank</dt>\n",
       "\t\t<dd>0.141429285357321</dd>\n",
       "\t<dt>Duration.in.Current.address</dt>\n",
       "\t\t<dd>0.870564717641179</dd>\n",
       "\t<dt>Guarantors</dt>\n",
       "\t\t<dd>1</dd>\n",
       "</dl>\n"
      ],
      "text/latex": [
       "\\begin{description*}\n",
       "\\item[Account.Balance] 0.000499750124937531\n",
       "\\item[Payment.Status.of.Previous.Credit] 0.000499750124937531\n",
       "\\item[Purpose] 0.000499750124937531\n",
       "\\item[Value.Savings.Stocks] 0.000499750124937531\n",
       "\\item[Most.valuable.available.asset] 0.000499750124937531\n",
       "\\item[Concurrent.Credits] 0.000499750124937531\n",
       "\\item[Type.of.apartment] 0.000499750124937531\n",
       "\\item[Length.of.current.employment] 0.000999500249875062\n",
       "\\item[Sex...Marital.Status] 0.0109945027486257\n",
       "\\item[Instalment.per.cent] 0.138930534732634\n",
       "\\item[No.of.Credits.at.this.Bank] 0.141429285357321\n",
       "\\item[Duration.in.Current.address] 0.870564717641179\n",
       "\\item[Guarantors] 1\n",
       "\\end{description*}\n"
      ],
      "text/markdown": [
       "Account.Balance\n",
       ":   0.000499750124937531Payment.Status.of.Previous.Credit\n",
       ":   0.000499750124937531Purpose\n",
       ":   0.000499750124937531Value.Savings.Stocks\n",
       ":   0.000499750124937531Most.valuable.available.asset\n",
       ":   0.000499750124937531Concurrent.Credits\n",
       ":   0.000499750124937531Type.of.apartment\n",
       ":   0.000499750124937531Length.of.current.employment\n",
       ":   0.000999500249875062Sex...Marital.Status\n",
       ":   0.0109945027486257Instalment.per.cent\n",
       ":   0.138930534732634No.of.Credits.at.this.Bank\n",
       ":   0.141429285357321Duration.in.Current.address\n",
       ":   0.870564717641179Guarantors\n",
       ":   1\n",
       "\n"
      ],
      "text/plain": [
       "                  Account.Balance Payment.Status.of.Previous.Credit \n",
       "                     0.0004997501                      0.0004997501 \n",
       "                          Purpose              Value.Savings.Stocks \n",
       "                     0.0004997501                      0.0004997501 \n",
       "    Most.valuable.available.asset                Concurrent.Credits \n",
       "                     0.0004997501                      0.0004997501 \n",
       "                Type.of.apartment      Length.of.current.employment \n",
       "                     0.0004997501                      0.0009995002 \n",
       "             Sex...Marital.Status               Instalment.per.cent \n",
       "                     0.0109945027                      0.1389305347 \n",
       "       No.of.Credits.at.this.Bank       Duration.in.Current.address \n",
       "                     0.1414292854                      0.8705647176 \n",
       "                       Guarantors \n",
       "                     1.0000000000 "
      ]
     },
     "metadata": {},
     "output_type": "display_data"
    }
   ],
   "source": [
    "\n",
    "# number of categorical variables\n",
    "ncat <- length(catList)-1\n",
    "\n",
    "# create vector to store results\n",
    "pval.cat <- rep(0, ncat)\n",
    "\n",
    "#chi-square test and print p-value\n",
    "\n",
    "for (i in  1: (length(catList)-1)){\n",
    "    #print(catList[i+1])\n",
    "    pval.cat[i] <- chisq.test(df_all$Creditability, df_all[,catList[i+1]], simulate.p.value = TRUE)$p.value\n",
    "    #cat(val$p.value, '\\n')\n",
    "}   \n",
    "\n",
    "\n",
    "names(pval.cat) <- catList[-1]\n",
    "\n",
    "\n",
    "\n",
    "# order categorical variables according\n",
    "# to their dependence of Status\n",
    "sort(pval.cat)"
   ]
  },
  {
   "cell_type": "markdown",
   "metadata": {},
   "source": [
    "\"Instalment.per.cent\", \"Duration.in.Current.address\", \"No.of.Credits.at.this.Bank\", \"Guarantors\" are less important of all?"
   ]
  },
  {
   "cell_type": "markdown",
   "metadata": {
    "collapsed": true
   },
   "source": [
    "Same can be done for continuous variables"
   ]
  },
  {
   "cell_type": "code",
   "execution_count": 222,
   "metadata": {
    "collapsed": false
   },
   "outputs": [
    {
     "data": {
      "text/html": [
       "<ol class=list-inline>\n",
       "\t<li>\"Duration.of.Credit..month.\"</li>\n",
       "\t<li>\"Credit.Amount\"</li>\n",
       "\t<li>\"Age..years.\"</li>\n",
       "</ol>\n"
      ],
      "text/latex": [
       "\\begin{enumerate*}\n",
       "\\item \"Duration.of.Credit..month.\"\n",
       "\\item \"Credit.Amount\"\n",
       "\\item \"Age..years.\"\n",
       "\\end{enumerate*}\n"
      ],
      "text/markdown": [
       "1. \"Duration.of.Credit..month.\"\n",
       "2. \"Credit.Amount\"\n",
       "3. \"Age..years.\"\n",
       "\n",
       "\n"
      ],
      "text/plain": [
       "[1] \"Duration.of.Credit..month.\" \"Credit.Amount\"             \n",
       "[3] \"Age..years.\"               "
      ]
     },
     "metadata": {},
     "output_type": "display_data"
    }
   ],
   "source": [
    "countList"
   ]
  },
  {
   "cell_type": "code",
   "execution_count": 223,
   "metadata": {
    "collapsed": false
   },
   "outputs": [
    {
     "data": {
      "text/html": [
       "<dl class=dl-horizontal>\n",
       "\t<dt>Duration.of.Credit..month.</dt>\n",
       "\t\t<dd>5.55239361769886e-12</dd>\n",
       "\t<dt>Credit.Amount</dt>\n",
       "\t\t<dd>0.00110608848022957</dd>\n",
       "\t<dt>Age..years.</dt>\n",
       "\t\t<dd>0.00123971362339695</dd>\n",
       "</dl>\n"
      ],
      "text/latex": [
       "\\begin{description*}\n",
       "\\item[Duration.of.Credit..month.] 5.55239361769886e-12\n",
       "\\item[Credit.Amount] 0.00110608848022957\n",
       "\\item[Age..years.] 0.00123971362339695\n",
       "\\end{description*}\n"
      ],
      "text/markdown": [
       "Duration.of.Credit..month.\n",
       ":   5.55239361769886e-12Credit.Amount\n",
       ":   0.00110608848022957Age..years.\n",
       ":   0.00123971362339695\n",
       "\n"
      ],
      "text/plain": [
       "Duration.of.Credit..month.              Credit.Amount \n",
       "              5.552394e-12               1.106088e-03 \n",
       "               Age..years. \n",
       "              1.239714e-03 "
      ]
     },
     "metadata": {},
     "output_type": "display_data"
    }
   ],
   "source": [
    "\n",
    "\n",
    "ncount <- length(countList)\n",
    "\n",
    "# create vector to store results\n",
    "pval.count <- rep(0, ncount)\n",
    "\n",
    "\n",
    "for (i in  1: length(countList)){\n",
    "  \n",
    "    \n",
    "    pval.count[i] <- oneway.test(df_all[,countList[i]] ~ df_all$Creditability)$p.value\n",
    "   \n",
    "}   \n",
    "\n",
    "names(pval.count) <- countList\n",
    "\n",
    "\n",
    "\n",
    "# order categorical variables according\n",
    "# to their dependence of Status\n",
    "sort(pval.count)"
   ]
  },
  {
   "cell_type": "markdown",
   "metadata": {
    "collapsed": true
   },
   "source": [
    "### Building Machine Learning algorithms\n"
   ]
  },
  {
   "cell_type": "markdown",
   "metadata": {},
   "source": [
    "Investigate var importance (other method)"
   ]
  },
  {
   "cell_type": "code",
   "execution_count": 224,
   "metadata": {
    "collapsed": false
   },
   "outputs": [
    {
     "data": {},
     "metadata": {},
     "output_type": "display_data"
    },
    {
     "data": {
      "image/png": "[encoded data removed]",
      "text/plain": [
       "plot without title"
      ]
     },
     "metadata": {},
     "output_type": "display_data"
    }
   ],
   "source": [
    "#load library for machine learning\n",
    "library(mlr)\n",
    "\n",
    "#create task\n",
    "task <- makeClassifTask(data = df_all,target = \"Creditability\")\n",
    "\n",
    "\n",
    "\n",
    "#remove zero variance features\n",
    "task <- removeConstantFeatures(task)\n",
    "\n",
    "\n",
    "\n",
    "\n",
    "#get variable importance chart\n",
    "var_imp <- generateFilterValuesData(task, method = c(\"information.gain\"))\n",
    "plotFilterValues(var_imp,feat.type.cols = TRUE)"
   ]
  },
  {
   "cell_type": "markdown",
   "metadata": {},
   "source": [
    "Pruning the less important features might improve the performance of some algorithms."
   ]
  },
  {
   "cell_type": "markdown",
   "metadata": {},
   "source": [
    "#### Splitting the data "
   ]
  },
  {
   "cell_type": "code",
   "execution_count": 225,
   "metadata": {
    "collapsed": true
   },
   "outputs": [],
   "source": [
    "set.seed(1234)\n",
    "\n",
    "index <- sample(1:1000, 900) # Train has 900 ROWS ...\n",
    "\n",
    "traindf <- df_all[index, ]\n",
    "testdf <- df_all[-index,]\n",
    "\n"
   ]
  },
  {
   "cell_type": "code",
   "execution_count": 226,
   "metadata": {
    "collapsed": false
   },
   "outputs": [
    {
     "data": {
      "text/html": [
       "<ol class=list-inline>\n",
       "\t<li>900</li>\n",
       "\t<li>17</li>\n",
       "</ol>\n"
      ],
      "text/latex": [
       "\\begin{enumerate*}\n",
       "\\item 900\n",
       "\\item 17\n",
       "\\end{enumerate*}\n"
      ],
      "text/markdown": [
       "1. 900\n",
       "2. 17\n",
       "\n",
       "\n"
      ],
      "text/plain": [
       "[1] 900  17"
      ]
     },
     "metadata": {},
     "output_type": "display_data"
    },
    {
     "data": {
      "text/html": [
       "<ol class=list-inline>\n",
       "\t<li>100</li>\n",
       "\t<li>17</li>\n",
       "</ol>\n"
      ],
      "text/latex": [
       "\\begin{enumerate*}\n",
       "\\item 100\n",
       "\\item 17\n",
       "\\end{enumerate*}\n"
      ],
      "text/markdown": [
       "1. 100\n",
       "2. 17\n",
       "\n",
       "\n"
      ],
      "text/plain": [
       "[1] 100  17"
      ]
     },
     "metadata": {},
     "output_type": "display_data"
    }
   ],
   "source": [
    "dim(traindf)\n",
    "dim(testdf)"
   ]
  },
  {
   "cell_type": "markdown",
   "metadata": {},
   "source": [
    "check balance"
   ]
  },
  {
   "cell_type": "code",
   "execution_count": 227,
   "metadata": {
    "collapsed": false
   },
   "outputs": [
    {
     "data": {
      "text/plain": [
       "\n",
       "  0   1 \n",
       "0.3 0.7 "
      ]
     },
     "metadata": {},
     "output_type": "display_data"
    },
    {
     "data": {
      "text/plain": [
       "\n",
       "        0         1 \n",
       "0.2955556 0.7044444 "
      ]
     },
     "metadata": {},
     "output_type": "display_data"
    },
    {
     "data": {
      "text/plain": [
       "\n",
       "   0    1 \n",
       "0.34 0.66 "
      ]
     },
     "metadata": {},
     "output_type": "display_data"
    }
   ],
   "source": [
    "prop.table(table(df_all$Creditability))\n",
    "prop.table(table(traindf$Creditability))\n",
    "prop.table(table(testdf$Creditability))"
   ]
  },
  {
   "cell_type": "markdown",
   "metadata": {
    "collapsed": false
   },
   "source": [
    "#### Logistic regression\n"
   ]
  },
  {
   "cell_type": "markdown",
   "metadata": {
    "collapsed": false
   },
   "source": [
    "scale numeric features to prevent some to dominate the training"
   ]
  },
  {
   "cell_type": "code",
   "execution_count": 228,
   "metadata": {
    "collapsed": true
   },
   "outputs": [],
   "source": [
    "traindf_scale <- traindf\n",
    "testdf_scale <- testdf"
   ]
  },
  {
   "cell_type": "code",
   "execution_count": 229,
   "metadata": {
    "collapsed": false
   },
   "outputs": [],
   "source": [
    "traindf_scale[,countList] <- as.numeric(scale(traindf[,countList] )) #unit variance and zero mean\n",
    "testdf_scale[,countList] <-   as.numeric(scale(testdf[,countList] )) "
   ]
  },
  {
   "cell_type": "code",
   "execution_count": 230,
   "metadata": {
    "collapsed": false
   },
   "outputs": [
    {
     "data": {
      "text/plain": [
       " Duration.of.Credit..month. Credit.Amount       Age..years.      \n",
       " Min.   :-2.4277            Min.   :-2.90549   Min.   :-1.92919  \n",
       " 1st Qu.:-0.6739            1st Qu.:-0.73075   1st Qu.:-0.76874  \n",
       " Median : 0.0227            Median :-0.05931   Median :-0.09912  \n",
       " Mean   : 0.0000            Mean   : 0.00000   Mean   : 0.00000  \n",
       " 3rd Qu.: 0.5264            3rd Qu.: 0.64134   3rd Qu.: 0.71082  \n",
       " Max.   : 2.4934            Max.   : 2.61147   Max.   : 2.67507  "
      ]
     },
     "metadata": {},
     "output_type": "display_data"
    }
   ],
   "source": [
    "summary(traindf_scale[,countList] ) "
   ]
  },
  {
   "cell_type": "code",
   "execution_count": 231,
   "metadata": {
    "collapsed": false
   },
   "outputs": [
    {
     "data": {
      "text/plain": [
       "\n",
       "Call:  glm(formula = Creditability ~ . - Age..years. - Guarantors, family = binomial, \n",
       "    data = traindf_scale, na.action = na.exclude)\n",
       "\n",
       "Coefficients:\n",
       "                       (Intercept)          Duration.of.Credit..month.  \n",
       "                          -0.77689                            -0.53134  \n",
       "                     Credit.Amount                    Account.Balance2  \n",
       "                          -0.09857                             0.24224  \n",
       "                  Account.Balance4  Payment.Status.of.Previous.Credit4  \n",
       "                           1.56201                             1.02125  \n",
       "                          Purpose1                           Purpose10  \n",
       "                           1.59815                             1.05936  \n",
       "                          Purpose2                            Purpose3  \n",
       "                           0.70721                             0.91037  \n",
       "                         Purpose11                            Purpose9  \n",
       "                           0.26711                             0.51493  \n",
       "             Value.Savings.Stocks3               Value.Savings.Stocks5  \n",
       "                           0.36700                             0.94188  \n",
       "     Length.of.current.employment2       Length.of.current.employment3  \n",
       "                          -0.15073                             0.06092  \n",
       "     Length.of.current.employment4       Length.of.current.employment5  \n",
       "                           0.69964                             0.12597  \n",
       "              Instalment.per.cent2                Instalment.per.cent3  \n",
       "                          -0.21723                            -0.40253  \n",
       "              Instalment.per.cent4               Sex...Marital.Status3  \n",
       "                          -0.68351                             0.47949  \n",
       "             Sex...Marital.Status4        Duration.in.Current.address2  \n",
       "                           0.32696                            -0.80688  \n",
       "      Duration.in.Current.address3        Duration.in.Current.address4  \n",
       "                          -0.59318                            -0.40618  \n",
       "    Most.valuable.available.asset2      Most.valuable.available.asset3  \n",
       "                          -0.19916                            -0.25272  \n",
       "    Most.valuable.available.asset4                 Concurrent.Credits3  \n",
       "                          -0.63079                             0.51529  \n",
       "                Type.of.apartment2                  Type.of.apartment3  \n",
       "                           0.48933                             0.45729  \n",
       "       No.of.Credits.at.this.Bank4  \n",
       "                          -0.39617  \n",
       "\n",
       "Degrees of Freedom: 899 Total (i.e. Null);  867 Residual\n",
       "Null Deviance:\t    1093 \n",
       "Residual Deviance: 844.4 \tAIC: 910.4"
      ]
     },
     "metadata": {},
     "output_type": "display_data"
    }
   ],
   "source": [
    "set.seed(1234)\n",
    "\n",
    "glm_model <- glm(Creditability ~ . - Age..years. -Guarantors, #-Duration.in.Current.address,     \n",
    "                 data=traindf_scale  , family = binomial, na.action = na.exclude)\n",
    "\n",
    "glm_model"
   ]
  },
  {
   "cell_type": "code",
   "execution_count": 232,
   "metadata": {
    "collapsed": true
   },
   "outputs": [],
   "source": [
    "fitted.results <- predict(glm_model,newdata=testdf_scale,type='response')"
   ]
  },
  {
   "cell_type": "markdown",
   "metadata": {},
   "source": [
    "Default model uses 0.5 as threshold to transform probabilities into prediction. When the dataset is imbalanced, tuning this value is required."
   ]
  },
  {
   "cell_type": "code",
   "execution_count": 233,
   "metadata": {
    "collapsed": false
   },
   "outputs": [
    {
     "data": {
      "text/html": [
       "<strong>Pos Pred Value:</strong> 0.73972602739726"
      ],
      "text/latex": [
       "\\textbf{Pos Pred Value:} 0.73972602739726"
      ],
      "text/markdown": [
       "**Pos Pred Value:** 0.73972602739726"
      ],
      "text/plain": [
       "Pos Pred Value \n",
       "      0.739726 "
      ]
     },
     "metadata": {},
     "output_type": "display_data"
    }
   ],
   "source": [
    "num_row <- nrow(testdf_scale)\n",
    "Threshold <- rep(0,num_row)#to tune\n",
    "\n",
    "                   \n",
    "for (i in 1:num_row){\n",
    "\n",
    "if(fitted.results [i] >= 0.61) Threshold[i] <- 1 #0.75, 0.70, 0.65, 0.60\n",
    "\n",
    "}  \n",
    "    \n",
    "dCM <- confusionMatrix(Threshold, testdf_scale$Creditability, positive = \"0\")\n",
    "\n",
    "precision <- dCM$byClass['Pos Pred Value']\n",
    "recall <- dCM$byClass['Sensitivity']\n",
    "\n",
    "f_measure <- 2*((precision*recall)/(precision+recall))\n",
    "\n",
    "\n",
    "f_measure\n",
    "    \n",
    "    \n"
   ]
  },
  {
   "cell_type": "markdown",
   "metadata": {},
   "source": [
    "#### SVM (predict_proba)"
   ]
  },
  {
   "cell_type": "code",
   "execution_count": 234,
   "metadata": {
    "collapsed": false
   },
   "outputs": [
    {
     "data": {
      "text/plain": [
       "\n",
       "Call:\n",
       "svm(formula = Creditability ~ ., data = traindf_scale, probability = TRUE)\n",
       "\n",
       "\n",
       "Parameters:\n",
       "   SVM-Type:  C-classification \n",
       " SVM-Kernel:  radial \n",
       "       cost:  1 \n",
       "      gamma:  0.02857143 \n",
       "\n",
       "Number of Support Vectors:  553\n",
       "\n",
       " ( 289 264 )\n",
       "\n",
       "\n",
       "Number of Classes:  2 \n",
       "\n",
       "Levels: \n",
       " 0 1\n",
       "\n",
       "\n"
      ]
     },
     "metadata": {},
     "output_type": "display_data"
    }
   ],
   "source": [
    "set.seed(1234)\n",
    "\n",
    "svm_model <- svm(Creditability ~. ,    #- Age..years., - Guarantors\n",
    "                 data=traindf_scale, probability=TRUE) #, class.weights =Wts) # training\n",
    "\n",
    "\n",
    "\n",
    "summary(svm_model)"
   ]
  },
  {
   "cell_type": "code",
   "execution_count": 235,
   "metadata": {
    "collapsed": false
   },
   "outputs": [
    {
     "data": {
      "text/html": [
       "<strong>Pos Pred Value:</strong> 0.701298701298701"
      ],
      "text/latex": [
       "\\textbf{Pos Pred Value:} 0.701298701298701"
      ],
      "text/markdown": [
       "**Pos Pred Value:** 0.701298701298701"
      ],
      "text/plain": [
       "Pos Pred Value \n",
       "     0.7012987 "
      ]
     },
     "metadata": {},
     "output_type": "display_data"
    }
   ],
   "source": [
    "test_pred <- predict(svm_model, testdf_scale, probability=TRUE)\n",
    "\n",
    "\n",
    "\n",
    "\n",
    "Threshold <- rep(0,num_row) #to tune\n",
    "\n",
    "                   \n",
    "for (i in 1:num_row){\n",
    "\n",
    "if(attr(test_pred,\"probabilities\")[i] >= 0.70) Threshold[i] <- 1 #0.75, 0.70, 0.65, 0.60\n",
    "\n",
    "}  \n",
    "    \n",
    "dCM <- confusionMatrix(Threshold, testdf_scale$Creditability, positive = \"0\")\n",
    "precision <- dCM$byClass['Pos Pred Value']\n",
    "recall <- dCM$byClass['Sensitivity']\n",
    "\n",
    "f_measure <- 2*((precision*recall)/(precision+recall))\n",
    "\n",
    "\n",
    "f_measure\n",
    "    "
   ]
  },
  {
   "cell_type": "code",
   "execution_count": 236,
   "metadata": {
    "collapsed": false
   },
   "outputs": [
    {
     "data": {
      "text/html": [
       "<table>\n",
       "<thead><tr><th></th><th scope=col>svm_proba</th><th scope=col>glm_proba</th></tr></thead>\n",
       "<tbody>\n",
       "\t<tr><th scope=row>1</th><td>0.9236282</td><td>0.9394087</td></tr>\n",
       "\t<tr><th scope=row>2</th><td>0.5352290</td><td>0.5442209</td></tr>\n",
       "\t<tr><th scope=row>3</th><td>0.8197237</td><td>0.8341665</td></tr>\n",
       "\t<tr><th scope=row>4</th><td>0.8319363</td><td>0.8490875</td></tr>\n",
       "\t<tr><th scope=row>5</th><td>0.8079040</td><td>0.8308384</td></tr>\n",
       "</tbody>\n",
       "</table>\n"
      ],
      "text/latex": [
       "\\begin{tabular}{r|ll}\n",
       "  & svm\\_proba & glm\\_proba\\\\\n",
       "\\hline\n",
       "\t1 & 0.9236282 & 0.9394087\\\\\n",
       "\t2 & 0.5352290 & 0.5442209\\\\\n",
       "\t3 & 0.8197237 & 0.8341665\\\\\n",
       "\t4 & 0.8319363 & 0.8490875\\\\\n",
       "\t5 & 0.8079040 & 0.8308384\\\\\n",
       "\\end{tabular}\n"
      ],
      "text/plain": [
       "  svm_proba glm_proba\n",
       "1 0.9236282 0.9394087\n",
       "2 0.5352290 0.5442209\n",
       "3 0.8197237 0.8341665\n",
       "4 0.8319363 0.8490875\n",
       "5 0.8079040 0.8308384"
      ]
     },
     "metadata": {},
     "output_type": "display_data"
    }
   ],
   "source": [
    "library(data.table)\n",
    "data.table(svm_proba = attr(test_pred,\"probabilities\")[1:5], glm_proba =  fitted.results[1:5])"
   ]
  },
  {
   "cell_type": "markdown",
   "metadata": {},
   "source": [
    "Further we will try to average the prediction probabilities from the best model and check the accuracy."
   ]
  },
  {
   "cell_type": "markdown",
   "metadata": {},
   "source": [
    "#### Use techniques to balance the dataset before training"
   ]
  },
  {
   "cell_type": "code",
   "execution_count": 237,
   "metadata": {
    "collapsed": false
   },
   "outputs": [
    {
     "data": {
      "text/plain": [
       "\n",
       "        1         0 \n",
       "0.5177778 0.4822222 "
      ]
     },
     "metadata": {},
     "output_type": "display_data"
    },
    {
     "data": {
      "text/html": [
       "<dl class=dl-horizontal>\n",
       "\t<dt>1</dt>\n",
       "\t\t<dd>466</dd>\n",
       "\t<dt>0</dt>\n",
       "\t\t<dd>434</dd>\n",
       "</dl>\n"
      ],
      "text/latex": [
       "\\begin{description*}\n",
       "\\item[1] 466\n",
       "\\item[0] 434\n",
       "\\end{description*}\n"
      ],
      "text/markdown": [
       "1\n",
       ":   4660\n",
       ":   434\n",
       "\n"
      ],
      "text/plain": [
       "  1   0 \n",
       "466 434 "
      ]
     },
     "metadata": {},
     "output_type": "display_data"
    }
   ],
   "source": [
    "library(ROSE)\n",
    "\n",
    "traindf_scale_rose <- ROSE(Creditability ~ ., data = traindf_scale, seed = 1)$data\n",
    "\n",
    "prop.table(table(traindf_scale_rose$Creditability))\n",
    "summary(traindf_scale_rose$Creditability)"
   ]
  },
  {
   "cell_type": "markdown",
   "metadata": {},
   "source": [
    "#### SVM again"
   ]
  },
  {
   "cell_type": "code",
   "execution_count": 238,
   "metadata": {
    "collapsed": false,
    "scrolled": true
   },
   "outputs": [
    {
     "data": {
      "text/plain": [
       "\n",
       "Call:\n",
       "svm(formula = Creditability ~ . - Age..years., data = traindf_scale, \n",
       "    class.weights = c(`0` = 2, `1` = 1))\n",
       "\n",
       "\n",
       "Parameters:\n",
       "   SVM-Type:  C-classification \n",
       " SVM-Kernel:  radial \n",
       "       cost:  1 \n",
       "      gamma:  0.02941176 \n",
       "\n",
       "Number of Support Vectors:  617\n",
       "\n",
       " ( 405 212 )\n",
       "\n",
       "\n",
       "Number of Classes:  2 \n",
       "\n",
       "Levels: \n",
       " 0 1\n",
       "\n",
       "\n"
      ]
     },
     "metadata": {},
     "output_type": "display_data"
    }
   ],
   "source": [
    "set.seed(1234)\n",
    "svm_model_balanced <- svm(Creditability ~. - Age..years.,    \n",
    "                 data=traindf_scale, class.weights = c(\"0\"=2,\"1\"=1))\n",
    "                 \n",
    "\n",
    "\n",
    "\n",
    "summary(svm_model_balanced)"
   ]
  },
  {
   "cell_type": "code",
   "execution_count": 239,
   "metadata": {
    "collapsed": false
   },
   "outputs": [
    {
     "data": {
      "text/html": [
       "<strong>Pos Pred Value:</strong> 0.717948717948718"
      ],
      "text/latex": [
       "\\textbf{Pos Pred Value:} 0.717948717948718"
      ],
      "text/markdown": [
       "**Pos Pred Value:** 0.717948717948718"
      ],
      "text/plain": [
       "Pos Pred Value \n",
       "     0.7179487 "
      ]
     },
     "metadata": {},
     "output_type": "display_data"
    }
   ],
   "source": [
    "test_pred_balanced <- predict(svm_model_balanced, testdf_scale)\n",
    "\n",
    "\n",
    "\n",
    "\n",
    "    \n",
    "dCM <- confusionMatrix(test_pred_balanced, testdf_scale$Creditability, positive = \"0\")\n",
    "precision <- dCM$byClass['Pos Pred Value']\n",
    "recall <- dCM$byClass['Sensitivity']\n",
    "\n",
    "f_measure <- 2*((precision*recall)/(precision+recall))\n",
    "\n",
    "\n",
    "f_measure"
   ]
  },
  {
   "cell_type": "code",
   "execution_count": 240,
   "metadata": {
    "collapsed": false
   },
   "outputs": [
    {
     "data": {
      "text/plain": [
       "\n",
       "Call:\n",
       "svm(formula = Creditability ~ . - Age..years., data = traindf_scale_rose)\n",
       "\n",
       "\n",
       "Parameters:\n",
       "   SVM-Type:  C-classification \n",
       " SVM-Kernel:  radial \n",
       "       cost:  1 \n",
       "      gamma:  0.02941176 \n",
       "\n",
       "Number of Support Vectors:  644\n",
       "\n",
       " ( 323 321 )\n",
       "\n",
       "\n",
       "Number of Classes:  2 \n",
       "\n",
       "Levels: \n",
       " 1 0\n",
       "\n",
       "\n"
      ]
     },
     "metadata": {},
     "output_type": "display_data"
    }
   ],
   "source": [
    "set.seed(1234)\n",
    "\n",
    "svm_model_rose <- svm(Creditability ~. - Age..years.,    \n",
    "                 data=traindf_scale_rose)\n",
    "\n",
    "\n",
    "\n",
    "summary(svm_model_rose)"
   ]
  },
  {
   "cell_type": "code",
   "execution_count": 241,
   "metadata": {
    "collapsed": false,
    "scrolled": true
   },
   "outputs": [
    {
     "name": "stderr",
     "output_type": "stream",
     "text": [
      "Warning message in confusionMatrix.default(test_pred_rose, testdf_scale$Creditability, :\n",
      "\"Levels are not in the same order for reference and data. Refactoring data to match.\""
     ]
    },
    {
     "data": {
      "text/html": [
       "<strong>Pos Pred Value:</strong> 0.710526315789474"
      ],
      "text/latex": [
       "\\textbf{Pos Pred Value:} 0.710526315789474"
      ],
      "text/markdown": [
       "**Pos Pred Value:** 0.710526315789474"
      ],
      "text/plain": [
       "Pos Pred Value \n",
       "     0.7105263 "
      ]
     },
     "metadata": {},
     "output_type": "display_data"
    }
   ],
   "source": [
    "test_pred_rose <- predict(svm_model_rose, testdf_scale)\n",
    "\n",
    "\n",
    "\n",
    "\n",
    "    \n",
    "dCM <- confusionMatrix(test_pred_rose, testdf_scale$Creditability, positive = \"0\")\n",
    "precision <- dCM$byClass['Pos Pred Value']\n",
    "recall <- dCM$byClass['Sensitivity']\n",
    "\n",
    "f_measure <- 2*((precision*recall)/(precision+recall))\n",
    "\n",
    "\n",
    "f_measure\n",
    "    "
   ]
  },
  {
   "cell_type": "markdown",
   "metadata": {},
   "source": [
    "Tuning svm"
   ]
  },
  {
   "cell_type": "code",
   "execution_count": 242,
   "metadata": {
    "collapsed": false
   },
   "outputs": [],
   "source": [
    "set.seed(1234)\n",
    "\n",
    "#tuned_svm <- tune.svm(Creditability ~. - Age..years.,    \n",
    "#                 data=traindf_scale_rose, gamma = 10^(-3:-1), cost = 10^(-1:2)) #first try, best 0.1, 100\n",
    "\n",
    "#tuned_svm <- tune.svm(Creditability ~. - Age..years. ,    \n",
    "#                 data=traindf_scale_rose, gamma = c(0.06, 0.09, 0.1, 0.3, 0.4, 0.5 ), cost = 10^(-1:2))#2nd try,\n",
    "#best 0.5, 10\n",
    "\n",
    "\n",
    "\n",
    "tuned_svm <- tune.svm(Creditability ~. - Age..years.,    \n",
    "                 data=traindf_scale_rose, gamma = c(0.45, 0.5,  0.55, 0.6), cost = 10^(-1:2))\n",
    "\n"
   ]
  },
  {
   "cell_type": "code",
   "execution_count": 243,
   "metadata": {
    "collapsed": false
   },
   "outputs": [
    {
     "data": {
      "text/plain": [
       "\n",
       "Parameter tuning of 'svm':\n",
       "\n",
       "- sampling method: 10-fold cross validation \n",
       "\n",
       "- best parameters:\n",
       " gamma cost\n",
       "   0.5   10\n",
       "\n",
       "- best performance: 0.1088889 \n",
       "\n",
       "- Detailed performance results:\n",
       "   gamma  cost     error dispersion\n",
       "1   0.45   0.1 0.4822222 0.05473468\n",
       "2   0.50   0.1 0.4822222 0.05473468\n",
       "3   0.55   0.1 0.4822222 0.05473468\n",
       "4   0.60   0.1 0.4822222 0.05473468\n",
       "5   0.45   1.0 0.1233333 0.02744242\n",
       "6   0.50   1.0 0.1211111 0.02309995\n",
       "7   0.55   1.0 0.1233333 0.02842457\n",
       "8   0.60   1.0 0.1155556 0.02878424\n",
       "9   0.45  10.0 0.1111111 0.02566001\n",
       "10  0.50  10.0 0.1088889 0.01799253\n",
       "11  0.55  10.0 0.1111111 0.01888526\n",
       "12  0.60  10.0 0.1111111 0.02400274\n",
       "13  0.45 100.0 0.1111111 0.02566001\n",
       "14  0.50 100.0 0.1088889 0.01799253\n",
       "15  0.55 100.0 0.1111111 0.01888526\n",
       "16  0.60 100.0 0.1111111 0.02400274\n"
      ]
     },
     "metadata": {},
     "output_type": "display_data"
    }
   ],
   "source": [
    "summary(tuned_svm)"
   ]
  },
  {
   "cell_type": "code",
   "execution_count": 244,
   "metadata": {
    "collapsed": false,
    "scrolled": true
   },
   "outputs": [
    {
     "data": {
      "text/plain": [
       "\n",
       "Call:\n",
       "svm(formula = Creditability ~ . - Age..years., data = traindf_scale_rose, \n",
       "    gamma = 0.5, cost = 10)\n",
       "\n",
       "\n",
       "Parameters:\n",
       "   SVM-Type:  C-classification \n",
       " SVM-Kernel:  radial \n",
       "       cost:  10 \n",
       "      gamma:  0.5 \n",
       "\n",
       "Number of Support Vectors:  755\n",
       "\n",
       " ( 404 351 )\n",
       "\n",
       "\n",
       "Number of Classes:  2 \n",
       "\n",
       "Levels: \n",
       " 1 0\n",
       "\n",
       "\n"
      ]
     },
     "metadata": {},
     "output_type": "display_data"
    }
   ],
   "source": [
    "\n",
    "\n",
    "svm_model_tuned <- svm(Creditability ~. - Age..years.,    \n",
    "                 data=traindf_scale_rose, gamma = 0.5, cost =10) \n",
    "\n",
    "\n",
    "summary(svm_model_tuned)"
   ]
  },
  {
   "cell_type": "code",
   "execution_count": 245,
   "metadata": {
    "collapsed": false
   },
   "outputs": [
    {
     "name": "stderr",
     "output_type": "stream",
     "text": [
      "Warning message in confusionMatrix.default(test_pred_tuned, testdf_scale$Creditability, :\n",
      "\"Levels are not in the same order for reference and data. Refactoring data to match.\""
     ]
    },
    {
     "data": {
      "text/html": [
       "<strong>Pos Pred Value:</strong> 0.5625"
      ],
      "text/latex": [
       "\\textbf{Pos Pred Value:} 0.5625"
      ],
      "text/markdown": [
       "**Pos Pred Value:** 0.5625"
      ],
      "text/plain": [
       "Pos Pred Value \n",
       "        0.5625 "
      ]
     },
     "metadata": {},
     "output_type": "display_data"
    }
   ],
   "source": [
    "test_pred_tuned <- predict(svm_model_tuned, testdf_scale)\n",
    "\n",
    "\n",
    "\n",
    "\n",
    "    \n",
    "dCM <- confusionMatrix(test_pred_tuned, testdf_scale$Creditability, positive = \"0\")\n",
    "precision <- dCM$byClass['Pos Pred Value']\n",
    "recall <- dCM$byClass['Sensitivity']\n",
    "\n",
    "f_measure <- 2*((precision*recall)/(precision+recall))\n",
    "\n",
    "\n",
    "f_measure\n",
    "    "
   ]
  },
  {
   "cell_type": "markdown",
   "metadata": {},
   "source": [
    "With a higher cost (10 instead of 1 default) probably many values are shrinked to zero => lost of information"
   ]
  },
  {
   "cell_type": "markdown",
   "metadata": {},
   "source": [
    "#### Naive Bayes"
   ]
  },
  {
   "cell_type": "markdown",
   "metadata": {},
   "source": [
    "SMOTE, oversampling and undersampling techniques are investigated to balance the dataset prior to training"
   ]
  },
  {
   "cell_type": "markdown",
   "metadata": {},
   "source": [
    "In SMOTE, the algorithm looks at n nearest neighbors, measures the distance between them and introduces a new observation at the center of n observations. While proceeding, we must keep in mind that these techniques have their own drawbacks such as:\n",
    "\n",
    "undersampling leads to loss of information\n",
    "\n",
    "oversampling leads to overestimation of minority class\n"
   ]
  },
  {
   "cell_type": "code",
   "execution_count": 246,
   "metadata": {
    "collapsed": true
   },
   "outputs": [],
   "source": [
    "#naive Bayes\n",
    "naive_learner <- makeLearner(\"classif.naiveBayes\",predict.type = \"response\")\n",
    "naive_learner$par.vals <- list(laplace = 1)"
   ]
  },
  {
   "cell_type": "markdown",
   "metadata": {},
   "source": [
    "Cross validation"
   ]
  },
  {
   "cell_type": "code",
   "execution_count": 247,
   "metadata": {
    "collapsed": false
   },
   "outputs": [
    {
     "data": {
      "text/html": [
       "<dl class=dl-horizontal>\n",
       "\t<dt>0</dt>\n",
       "\t\t<dd>266</dd>\n",
       "\t<dt>1</dt>\n",
       "\t\t<dd>634</dd>\n",
       "</dl>\n"
      ],
      "text/latex": [
       "\\begin{description*}\n",
       "\\item[0] 266\n",
       "\\item[1] 634\n",
       "\\end{description*}\n"
      ],
      "text/markdown": [
       "0\n",
       ":   2661\n",
       ":   634\n",
       "\n"
      ],
      "text/plain": [
       "  0   1 \n",
       "266 634 "
      ]
     },
     "metadata": {},
     "output_type": "display_data"
    }
   ],
   "source": [
    "summary(traindf$Creditability)"
   ]
  },
  {
   "cell_type": "code",
   "execution_count": 248,
   "metadata": {
    "collapsed": false
   },
   "outputs": [
    {
     "name": "stderr",
     "output_type": "stream",
     "text": [
      "Warning message in makeTask(type = type, data = data, weights = weights, blocking = blocking, :\n",
      "\"Empty factor levels were dropped for columns: Purpose\""
     ]
    },
    {
     "name": "stdout",
     "output_type": "stream",
     "text": [
      "prec 0.6296296 rec 0.53125 f_meas 0.5762712 \n",
      "prec 0.7931034 rec 0.6216216 f_meas 0.6969697 \n",
      "prec 0.8333333 rec 0.5555556 f_meas 0.6666667 \n",
      "prec 0.64 rec 0.3902439 f_meas 0.4848485 \n",
      "prec 0.6153846 rec 0.4210526 f_meas 0.5 \n"
     ]
    },
    {
     "name": "stderr",
     "output_type": "stream",
     "text": [
      "Warning message in makeTask(type = type, data = data, weights = weights, blocking = blocking, :\n",
      "\"Empty factor levels were dropped for columns: Purpose\""
     ]
    },
    {
     "name": "stdout",
     "output_type": "stream",
     "text": [
      "prec 0.7142857 rec 0.5263158 f_meas 0.6060606 \n",
      "prec 0.625 rec 0.4166667 f_meas 0.5 \n",
      "prec 0.7741935 rec 0.6153846 f_meas 0.6857143 \n",
      "prec 0.6666667 rec 0.6666667 f_meas 0.6666667 \n"
     ]
    },
    {
     "name": "stderr",
     "output_type": "stream",
     "text": [
      "Warning message in makeTask(type = type, data = data, weights = weights, blocking = blocking, :\n",
      "\"Empty factor levels were dropped for columns: Length.of.current.employment\""
     ]
    },
    {
     "name": "stdout",
     "output_type": "stream",
     "text": [
      "prec 0.7142857 rec 0.5172414 f_meas 0.6 \n"
     ]
    }
   ],
   "source": [
    "set.seed(1234)\n",
    "\n",
    "index <- 1:nrow(traindf)\n",
    "\n",
    "n_test = 10\n",
    "\n",
    "lind <- length(index)/n_test #number of rows subsets to select\n",
    "\n",
    "f_measure <- c()\n",
    "\n",
    "for(i in seq(1, n_test)){\n",
    "    \n",
    "    \n",
    "            testindex <- sample(index, size = trunc(lind))\n",
    "\n",
    "            training_data <- traindf[-testindex, ]\n",
    "\n",
    "            train.task <- makeClassifTask(data = training_data,target = \"Creditability\")\n",
    "\n",
    "\n",
    "\n",
    "\n",
    "            training_data_smote <- smote(train.task,rate = 2.3,nn = 5) \n",
    "            #training_data_over <- oversample(train.task,rate = 2.3) \n",
    "            #training_data_under <- undersample(train.task,rate = 0.41) \n",
    "  \n",
    "            #select features in the validation set\n",
    "            validation_data <- traindf[testindex, ]\n",
    "            test.task <- makeClassifTask(data = validation_data,target = \"Creditability\")\n",
    "\n",
    "            #train and predict\n",
    "            nB_model <- train(naive_learner, training_data_smote) #train.task\n",
    "            nB_predict <- predict(nB_model,test.task)\n",
    "    \n",
    "            #check accuracy \n",
    "            nB_prediction <- nB_predict$data$response\n",
    "            dCM <- confusionMatrix(validation_data$Creditability,nB_prediction, positive = \"0\") #choose no based on training set\n",
    "    \n",
    "           \n",
    "            precision <- dCM$byClass['Pos Pred Value']\n",
    "            recall <- dCM$byClass['Sensitivity']\n",
    "            val <- 2*(precision*recall)/(precision+recall)\n",
    "    \n",
    "            cat('prec', precision, 'rec', recall, 'f_meas', val, '\\n') \n",
    "            f_measure <- c(f_measure, val)  \n",
    "            index <- array(index)[-testindex]\n",
    "                \n",
    "}"
   ]
  },
  {
   "cell_type": "code",
   "execution_count": 249,
   "metadata": {
    "collapsed": false
   },
   "outputs": [
    {
     "data": {
      "text/html": [
       "0.598319759336708"
      ],
      "text/latex": [
       "0.598319759336708"
      ],
      "text/markdown": [
       "0.598319759336708"
      ],
      "text/plain": [
       "[1] 0.5983198"
      ]
     },
     "metadata": {},
     "output_type": "display_data"
    }
   ],
   "source": [
    "mean(f_measure)"
   ]
  },
  {
   "cell_type": "code",
   "execution_count": 250,
   "metadata": {
    "collapsed": true
   },
   "outputs": [],
   "source": [
    "#feature eng. to try at the end\n",
    "\n",
    "traindf_eng <- traindf #to run after each try\n",
    "testdf_eng <- testdf\n"
   ]
  },
  {
   "cell_type": "code",
   "execution_count": 251,
   "metadata": {
    "collapsed": false
   },
   "outputs": [],
   "source": [
    "traindf_eng$Age..years. <- traindf$Age..years.^3  #to run at the end\n",
    "testdf_eng$Age..years. <- testdf$Age..years.^3\n",
    "\n",
    "traindf_eng$Duration.of.Credit..month. <- traindf$Duration.of.Credit..month.^3\n",
    "testdf_eng$Duration.of.Credit..month. <- testdf_eng$Duration.of.Credit..month.^3\n",
    "\n",
    "traindf_eng$Credit.Amount <- traindf$Credit.Amount^2  #to run at the end\n",
    "testdf_eng$Credit.Amount <- testdf$Credit.Amount^2"
   ]
  },
  {
   "cell_type": "code",
   "execution_count": 252,
   "metadata": {
    "collapsed": true
   },
   "outputs": [],
   "source": [
    "train.task <- makeClassifTask(data = traindf_eng,target = \"Creditability\")\n",
    "test.task <- makeClassifTask(data=testdf_eng,target = \"Creditability\") "
   ]
  },
  {
   "cell_type": "code",
   "execution_count": 253,
   "metadata": {
    "collapsed": false
   },
   "outputs": [
    {
     "data": {
      "text/plain": [
       "   user  system elapsed \n",
       "   0.03    0.00    0.03 "
      ]
     },
     "metadata": {},
     "output_type": "display_data"
    },
    {
     "data": {
      "text/plain": [
       "\n",
       "  0   1 \n",
       "532 634 "
      ]
     },
     "metadata": {},
     "output_type": "display_data"
    }
   ],
   "source": [
    "set.seed(1234)\n",
    "#undersampling \n",
    "train.under <- undersample(train.task,rate = 0.5) #keep only 10% of majority class\n",
    "#table(getTaskTargets(train.under))\n",
    "\n",
    "\n",
    "\n",
    "\n",
    "\n",
    "#oversampling\n",
    "train.over <- oversample(train.task,rate=2) #make minority class 2 times\n",
    "#table(getTaskTargets(train.over))\n",
    "\n",
    "\n",
    "\n",
    "\n",
    "#SMOTE\n",
    "system.time(\n",
    "  train.smote <- smote(train.task,rate = 2,nn = 5 ) #or rate 9, nn=4 works here also\n",
    ") \n",
    "\n",
    "table(getTaskTargets(train.smote))"
   ]
  },
  {
   "cell_type": "code",
   "execution_count": 254,
   "metadata": {
    "collapsed": true
   },
   "outputs": [],
   "source": [
    "nB_model <- train(naive_learner, train.smote)\n",
    "nB_predict <- predict(nB_model,test.task)\n"
   ]
  },
  {
   "cell_type": "code",
   "execution_count": 255,
   "metadata": {
    "collapsed": false
   },
   "outputs": [
    {
     "data": {
      "text/plain": [
       "Confusion Matrix and Statistics\n",
       "\n",
       "          Reference\n",
       "Prediction  0  1\n",
       "         0 28  6\n",
       "         1 16 50\n",
       "                                          \n",
       "               Accuracy : 0.78            \n",
       "                 95% CI : (0.6861, 0.8567)\n",
       "    No Information Rate : 0.56            \n",
       "    P-Value [Acc > NIR] : 3.657e-06       \n",
       "                                          \n",
       "                  Kappa : 0.5424          \n",
       " Mcnemar's Test P-Value : 0.05501         \n",
       "                                          \n",
       "            Sensitivity : 0.6364          \n",
       "            Specificity : 0.8929          \n",
       "         Pos Pred Value : 0.8235          \n",
       "         Neg Pred Value : 0.7576          \n",
       "             Prevalence : 0.4400          \n",
       "         Detection Rate : 0.2800          \n",
       "   Detection Prevalence : 0.3400          \n",
       "      Balanced Accuracy : 0.7646          \n",
       "                                          \n",
       "       'Positive' Class : 0               \n",
       "                                          "
      ]
     },
     "metadata": {},
     "output_type": "display_data"
    }
   ],
   "source": [
    "#evaluate\n",
    "nB_prediction <- nB_predict$data$response\n",
    "dCM <- confusionMatrix(testdf$Creditability,nB_prediction)\n",
    "dCM #attention se lit a l'horizontale\n"
   ]
  },
  {
   "cell_type": "code",
   "execution_count": 256,
   "metadata": {
    "collapsed": false
   },
   "outputs": [
    {
     "data": {
      "text/html": [
       "<strong>Pos Pred Value:</strong> 0.717948717948718"
      ],
      "text/latex": [
       "\\textbf{Pos Pred Value:} 0.717948717948718"
      ],
      "text/markdown": [
       "**Pos Pred Value:** 0.717948717948718"
      ],
      "text/plain": [
       "Pos Pred Value \n",
       "     0.7179487 "
      ]
     },
     "metadata": {},
     "output_type": "display_data"
    }
   ],
   "source": [
    "#calculate F measure\n",
    "precision <- dCM$byClass['Pos Pred Value']\n",
    "recall <- dCM$byClass['Sensitivity']\n",
    "\n",
    "f_measure <- 2*((precision*recall)/(precision+recall))\n",
    "#precision\n",
    "#recall\n",
    "f_measure "
   ]
  },
  {
   "cell_type": "markdown",
   "metadata": {},
   "source": [
    "Average the probaility from different models."
   ]
  },
  {
   "cell_type": "code",
   "execution_count": 257,
   "metadata": {
    "collapsed": true
   },
   "outputs": [],
   "source": [
    "#naive Bayes\n",
    "naive_learner <- makeLearner(\"classif.naiveBayes\",predict.type = \"prob\")\n",
    "naive_learner$par.vals <- list(laplace = 1)"
   ]
  },
  {
   "cell_type": "code",
   "execution_count": 258,
   "metadata": {
    "collapsed": true
   },
   "outputs": [],
   "source": [
    "nB_model <- train(naive_learner, train.smote)\n",
    "nB_predict <- predict(nB_model,test.task)"
   ]
  },
  {
   "cell_type": "code",
   "execution_count": 259,
   "metadata": {
    "collapsed": false
   },
   "outputs": [],
   "source": [
    "nB_predict_proba <- getPredictionProbabilities(nB_predict, cl = '1')"
   ]
  },
  {
   "cell_type": "code",
   "execution_count": 260,
   "metadata": {
    "collapsed": true
   },
   "outputs": [],
   "source": [
    "#best svm model\n",
    "\n",
    "svm_model_balanced <- svm(Creditability ~. - Age..years.,    \n",
    "                 data=traindf_scale, class.weights = c(\"0\"=2,\"1\"=1), probability = TRUE)\n",
    "                 \n"
   ]
  },
  {
   "cell_type": "code",
   "execution_count": 261,
   "metadata": {
    "collapsed": false
   },
   "outputs": [
    {
     "name": "stderr",
     "output_type": "stream",
     "text": [
      "Warning message in predict.svm(svm_model_rose, testdf_scale, probability = TRUE):\n",
      "\"SVM has not been trained using `probability = TRUE`, probabilities not available for predictions.\""
     ]
    }
   ],
   "source": [
    "test_pred_balanced <- predict(svm_model_rose, testdf_scale, probability = TRUE)"
   ]
  },
  {
   "cell_type": "code",
   "execution_count": 262,
   "metadata": {
    "collapsed": false
   },
   "outputs": [
    {
     "data": {
      "text/html": [
       "<dl class=dl-horizontal>\n",
       "\t<dt>38</dt>\n",
       "\t\t<dd>1</dd>\n",
       "\t<dt>42</dt>\n",
       "\t\t<dd>1</dd>\n",
       "\t<dt>44</dt>\n",
       "\t\t<dd>1</dd>\n",
       "\t<dt>48</dt>\n",
       "\t\t<dd>1</dd>\n",
       "\t<dt>52</dt>\n",
       "\t\t<dd>1</dd>\n",
       "</dl>\n"
      ],
      "text/latex": [
       "\\begin{description*}\n",
       "\\item[38] 1\n",
       "\\item[42] 1\n",
       "\\item[44] 1\n",
       "\\item[48] 1\n",
       "\\item[52] 1\n",
       "\\end{description*}\n"
      ],
      "text/markdown": [
       "38\n",
       ":   142\n",
       ":   144\n",
       ":   148\n",
       ":   152\n",
       ":   1\n",
       "\n"
      ],
      "text/plain": [
       "38 42 44 48 52 \n",
       " 1  1  1  1  1 \n",
       "Levels: 1 0"
      ]
     },
     "metadata": {},
     "output_type": "display_data"
    }
   ],
   "source": [
    "test_pred_balanced[1:5]"
   ]
  },
  {
   "cell_type": "code",
   "execution_count": 263,
   "metadata": {
    "collapsed": true
   },
   "outputs": [],
   "source": [
    "\n",
    "#svm_model_rose <- svm(Creditability ~. - Age..years.,    \n",
    "#                 data=traindf_scale_rose, probability = TRUE)\n",
    "\n",
    "\n",
    "\n",
    "#summary(svm_model_rose)"
   ]
  },
  {
   "cell_type": "code",
   "execution_count": 264,
   "metadata": {
    "collapsed": false
   },
   "outputs": [],
   "source": [
    "#test_pred_rose <- predict(svm_model_rose, testdf_scale, probability = TRUE)"
   ]
  },
  {
   "cell_type": "code",
   "execution_count": 265,
   "metadata": {
    "collapsed": false
   },
   "outputs": [],
   "source": [
    "\n",
    "#test_pred_rose[1:5]"
   ]
  },
  {
   "cell_type": "code",
   "execution_count": 266,
   "metadata": {
    "collapsed": false
   },
   "outputs": [
    {
     "data": {
      "text/html": [
       "<table>\n",
       "<thead><tr><th></th><th scope=col>svm_rose</th><th scope=col>naive_bayes</th></tr></thead>\n",
       "<tbody>\n",
       "\t<tr><th scope=row>38</th><td>1               </td><td>0.94497720449178</td></tr>\n",
       "\t<tr><th scope=row>42</th><td>1               </td><td>0.40427212758383</td></tr>\n",
       "\t<tr><th scope=row>44</th><td>1                </td><td>0.742824331599598</td></tr>\n",
       "\t<tr><th scope=row>48</th><td>1                </td><td>0.936028305857852</td></tr>\n",
       "\t<tr><th scope=row>52</th><td>1               </td><td>0.65643221123524</td></tr>\n",
       "</tbody>\n",
       "</table>\n"
      ],
      "text/latex": [
       "\\begin{tabular}{r|ll}\n",
       "  & svm\\_rose & naive\\_bayes\\\\\n",
       "\\hline\n",
       "\t38 & 1                & 0.94497720449178\\\\\n",
       "\t42 & 1                & 0.40427212758383\\\\\n",
       "\t44 & 1                 & 0.742824331599598\\\\\n",
       "\t48 & 1                 & 0.936028305857852\\\\\n",
       "\t52 & 1                & 0.65643221123524\\\\\n",
       "\\end{tabular}\n"
      ],
      "text/plain": [
       "   svm_rose naive_bayes\n",
       "38        1   0.9449772\n",
       "42        1   0.4042721\n",
       "44        1   0.7428243\n",
       "48        1   0.9360283\n",
       "52        1   0.6564322"
      ]
     },
     "metadata": {},
     "output_type": "display_data"
    }
   ],
   "source": [
    "data.frame(svm_rose = test_pred_balanced[1:5], naive_bayes = nB_predict_proba[1:5])"
   ]
  },
  {
   "cell_type": "markdown",
   "metadata": {},
   "source": [
    "For the balanced cases proba cannot be average, svm attempt to maximise the margins."
   ]
  },
  {
   "cell_type": "markdown",
   "metadata": {},
   "source": [
    "Unbalanced cases\n"
   ]
  },
  {
   "cell_type": "code",
   "execution_count": 267,
   "metadata": {
    "collapsed": false,
    "scrolled": true
   },
   "outputs": [
    {
     "data": {
      "text/html": [
       "<table>\n",
       "<thead><tr><th></th><th scope=col>svm_proba</th><th scope=col>glm_proba</th></tr></thead>\n",
       "<tbody>\n",
       "\t<tr><th scope=row>1</th><td>0.9236282</td><td>0.9394087</td></tr>\n",
       "\t<tr><th scope=row>2</th><td>0.5352290</td><td>0.5442209</td></tr>\n",
       "\t<tr><th scope=row>3</th><td>0.8197237</td><td>0.8341665</td></tr>\n",
       "\t<tr><th scope=row>4</th><td>0.8319363</td><td>0.8490875</td></tr>\n",
       "\t<tr><th scope=row>5</th><td>0.8079040</td><td>0.8308384</td></tr>\n",
       "</tbody>\n",
       "</table>\n"
      ],
      "text/latex": [
       "\\begin{tabular}{r|ll}\n",
       "  & svm\\_proba & glm\\_proba\\\\\n",
       "\\hline\n",
       "\t1 & 0.9236282 & 0.9394087\\\\\n",
       "\t2 & 0.5352290 & 0.5442209\\\\\n",
       "\t3 & 0.8197237 & 0.8341665\\\\\n",
       "\t4 & 0.8319363 & 0.8490875\\\\\n",
       "\t5 & 0.8079040 & 0.8308384\\\\\n",
       "\\end{tabular}\n"
      ],
      "text/plain": [
       "  svm_proba glm_proba\n",
       "1 0.9236282 0.9394087\n",
       "2 0.5352290 0.5442209\n",
       "3 0.8197237 0.8341665\n",
       "4 0.8319363 0.8490875\n",
       "5 0.8079040 0.8308384"
      ]
     },
     "metadata": {},
     "output_type": "display_data"
    }
   ],
   "source": [
    "\n",
    "\n",
    "data.table(svm_proba = attr(test_pred,\"probabilities\")[1:5], glm_proba =  fitted.results[1:5])"
   ]
  },
  {
   "cell_type": "code",
   "execution_count": 268,
   "metadata": {
    "collapsed": false
   },
   "outputs": [
    {
     "data": {
      "text/html": [
       "<strong>Pos Pred Value:</strong> 0.72"
      ],
      "text/latex": [
       "\\textbf{Pos Pred Value:} 0.72"
      ],
      "text/markdown": [
       "**Pos Pred Value:** 0.72"
      ],
      "text/plain": [
       "Pos Pred Value \n",
       "          0.72 "
      ]
     },
     "metadata": {},
     "output_type": "display_data"
    }
   ],
   "source": [
    "\n",
    "\n",
    "Threshold <- rep(0,num_row) #to tune\n",
    "\n",
    "                   \n",
    "for (i in 1:num_row){\n",
    "\n",
    "if((0.45*attr(test_pred,\"probabilities\")[i] + 0.55*fitted.results[i]) >= 0.66) Threshold[i] <- 1 #0.75, 0.70, 0.65, 0.60\n",
    "\n",
    "}  \n",
    "    \n",
    "dCM <- confusionMatrix(Threshold, testdf_scale$Creditability, positive = \"0\")\n",
    "precision <- dCM$byClass['Pos Pred Value']\n",
    "recall <- dCM$byClass['Sensitivity']\n",
    "\n",
    "f_measure <- 2*((precision*recall)/(precision+recall))\n",
    "\n",
    "\n",
    "f_measure"
   ]
  },
  {
   "cell_type": "markdown",
   "metadata": {
    "collapsed": true
   },
   "source": [
    "Finally all the tested models are comparable, even though the accuracy is slightly better with glm.\n",
    "\n",
    "Any suggestions?"
   ]
  }
 ],
 "metadata": {
  "anaconda-cloud": {},
  "kernelspec": {
   "display_name": "R",
   "language": "R",
   "name": "ir"
  },
  "language_info": {
   "codemirror_mode": "r",
   "file_extension": ".r",
   "mimetype": "text/x-r-source",
   "name": "R",
   "pygments_lexer": "r",
   "version": "3.3.1"
  }
 },
 "nbformat": 4,
 "nbformat_minor": 0
}
